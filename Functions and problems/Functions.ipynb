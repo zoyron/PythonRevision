{
 "cells": [
  {
   "cell_type": "code",
   "execution_count": 4,
   "id": "beff5bf2",
   "metadata": {},
   "outputs": [
    {
     "name": "stdout",
     "output_type": "stream",
     "text": [
      "Good morning Sagar\n",
      "This function will greet you\n"
     ]
    }
   ],
   "source": [
    "# functions helps in resuablity of the code\n",
    "# function definition\n",
    "def greetings(name):\n",
    "    \"\"\"This function will greet you\"\"\" # this is a doc string. this tells you what a function would do\n",
    "    print(\"Good morning {}\".format(name))\n",
    "greetings(\"Sagar\") # this is called function invoking\n",
    "# to just print the doc string of a funtion, use print(funcName.__doc__)\n",
    "print(greetings.__doc__) # this will print the doc string of the said function\n",
    "\n",
    "\n"
   ]
  },
  {
   "cell_type": "code",
   "execution_count": 8,
   "id": "eb2fccef",
   "metadata": {},
   "outputs": [
    {
     "name": "stdout",
     "output_type": "stream",
     "text": [
      "15\n",
      "it will return the sum of provided 2 numbers\n"
     ]
    }
   ],
   "source": [
    "# the return keyword\n",
    "# the return keyword is used to exit the function, and go back to the place from where the funtion is called\n",
    "def add(a,b):\n",
    "    \"\"\"it will return the sum of provided 2 numbers\"\"\"\n",
    "    return a+b\n",
    "d = add(7,8)\n",
    "print(d)\n",
    "print(add.__doc__)\n",
    "\n"
   ]
  },
  {
   "cell_type": "code",
   "execution_count": 12,
   "id": "dc2ead7d",
   "metadata": {},
   "outputs": [
    {
     "name": "stdout",
     "output_type": "stream",
     "text": [
      "654729075\n"
     ]
    }
   ],
   "source": [
    "def prod(lst):\n",
    "    \"the parameter is a list and it will return the product of all number in the list\"\n",
    "    p = 1\n",
    "    for i in lst:\n",
    "        p*=i\n",
    "    return p\n",
    "\n",
    "lst = [x for x in range(1,21,2)]\n",
    "print(prod(lst))\n",
    "\n"
   ]
  },
  {
   "cell_type": "code",
   "execution_count": 13,
   "id": "940750cf",
   "metadata": {},
   "outputs": [
    {
     "name": "stdout",
     "output_type": "stream",
     "text": [
      "(9, 3, 18, 2.0)\n"
     ]
    }
   ],
   "source": [
    "# function returning multiple values.\n",
    "# you can return multiple values from a function in the form of a tuple\n",
    "def calc(a,b):\n",
    "    \"\"\"calculates and returns 4 basic operations\"\"\"\n",
    "    res1 = a+b\n",
    "    res2 = a-b\n",
    "    res3 = a*b\n",
    "    res4 = a/b\n",
    "    return (res1,res2,res3,res4)\n",
    "\n",
    "print(calc(6,3))\n",
    "\n",
    "\n"
   ]
  },
  {
   "cell_type": "code",
   "execution_count": 18,
   "id": "9f125744",
   "metadata": {},
   "outputs": [
    {
     "name": "stdout",
     "output_type": "stream",
     "text": [
      "55\n"
     ]
    }
   ],
   "source": [
    "# the scope of a variable\n",
    "# so python has a scope of variable just like c and c++\n",
    "x = 0\n",
    "for i in range(1,11):\n",
    "    x+=i\n",
    "print(x)"
   ]
  },
  {
   "cell_type": "code",
   "execution_count": 20,
   "id": "d863d238",
   "metadata": {},
   "outputs": [
    {
     "name": "stdout",
     "output_type": "stream",
     "text": [
      "50\n"
     ]
    }
   ],
   "source": [
    "x = 50\n",
    "def func():\n",
    "    x = 2 # this x has no value outside the scope of this function\n",
    "func()\n",
    "print(x)"
   ]
  },
  {
   "cell_type": "code",
   "execution_count": 21,
   "id": "6e86fd12",
   "metadata": {},
   "outputs": [
    {
     "name": "stdout",
     "output_type": "stream",
     "text": [
      "56\n"
     ]
    }
   ],
   "source": [
    "a=10\n",
    "b=20\n",
    " \n",
    "def change():\n",
    "    global b\n",
    "    a=45\n",
    "    b=56\n",
    " \n",
    "change()\n",
    "print(b)"
   ]
  },
  {
   "cell_type": "code",
   "execution_count": 26,
   "id": "e2f477b5",
   "metadata": {},
   "outputs": [
    {
     "name": "stdout",
     "output_type": "stream",
     "text": [
      "9\n"
     ]
    }
   ],
   "source": [
    "# lambda functions or anonymous funcitnos or functions without names\n",
    "# syntax of lambda function is lambda param1, param2... : return statement\n",
    "# for eg\n",
    "add = (lambda a,b : a+b)\n",
    "# lambda function dont have any names\n",
    "print(add(4,5))\n",
    "\n",
    "\n",
    "\n",
    "\n"
   ]
  },
  {
   "cell_type": "code",
   "execution_count": 27,
   "id": "38f94c36",
   "metadata": {},
   "outputs": [
    {
     "name": "stdout",
     "output_type": "stream",
     "text": [
      "36\n"
     ]
    }
   ],
   "source": [
    "# write a function to find the lcm of 2 numbers\n",
    "def lcm(a,b):\n",
    "    \"\"\"finds the lcm of 2 numbers\"\"\"\n",
    "    maxNum = (a if a>b else b)\n",
    "    while True:\n",
    "        if(maxNum%a == 0 and maxNum%b == 0):\n",
    "            return maxNum\n",
    "        else:\n",
    "            maxNum+=1\n",
    "            \n",
    "res = lcm(4,18)\n",
    "print(res)\n",
    "        \n",
    "        \n",
    "        \n",
    "        \n",
    "        \n",
    "        \n",
    "        \n",
    "        "
   ]
  },
  {
   "cell_type": "code",
   "execution_count": 28,
   "id": "d075e9c2",
   "metadata": {},
   "outputs": [
    {
     "name": "stdout",
     "output_type": "stream",
     "text": [
      "0\n",
      "1\n",
      "2\n"
     ]
    }
   ],
   "source": [
    "# positional argumentsa are required to pass\n",
    "# default arguments\n",
    "# parameter that have some default values. they are optional parameters\n",
    "# default parameters always comes after positional parameters\n",
    "#def func(param = \"default\") this is how we can set a default parameter. it is only used when we dont send the parameter during function invoking\n",
    "# arbitary agruments can receive any numbe of arguments adn store them in a tuple.\n",
    "for i in range(3):\n",
    "    print(i)\n",
    "\n",
    "\n"
   ]
  },
  {
   "cell_type": "code",
   "execution_count": 29,
   "id": "bf870cdb",
   "metadata": {},
   "outputs": [
    {
     "name": "stdout",
     "output_type": "stream",
     "text": [
      "[0, None, 1, None, 2, None]\n"
     ]
    }
   ],
   "source": [
    "def foo(i, x=[]):\n",
    "    x.append(x.append(i))\n",
    "    return x\n",
    " \n",
    "for i in range(3):\n",
    "    y = foo(i)\n",
    " \n",
    "print(y)\n"
   ]
  },
  {
   "cell_type": "code",
   "execution_count": 30,
   "id": "0945dc3b",
   "metadata": {},
   "outputs": [
    {
     "name": "stdout",
     "output_type": "stream",
     "text": [
      "True\n"
     ]
    }
   ],
   "source": [
    "def foo(x):\n",
    "    x[0] = ['def']\n",
    "    x[1] = ['abc']\n",
    "    return id(x)\n",
    " \n",
    "q = ['abc', 'def']\n",
    "print(id(q) == foo(q))"
   ]
  },
  {
   "cell_type": "code",
   "execution_count": 31,
   "id": "c663f053",
   "metadata": {},
   "outputs": [
    {
     "data": {
      "text/plain": [
       "4.57"
      ]
     },
     "execution_count": 31,
     "metadata": {},
     "output_type": "execute_result"
    }
   ],
   "source": [
    "round(4.5676,2)"
   ]
  },
  {
   "cell_type": "code",
   "execution_count": 33,
   "id": "cd333dae",
   "metadata": {},
   "outputs": [
    {
     "data": {
      "text/plain": [
       "6"
      ]
     },
     "execution_count": 33,
     "metadata": {},
     "output_type": "execute_result"
    }
   ],
   "source": [
    "sum([1,2,3])"
   ]
  },
  {
   "cell_type": "code",
   "execution_count": 34,
   "id": "1f9ba01a",
   "metadata": {},
   "outputs": [
    {
     "data": {
      "text/plain": [
       "False"
      ]
     },
     "execution_count": 34,
     "metadata": {},
     "output_type": "execute_result"
    }
   ],
   "source": [
    "min(max(False,-3,-4), 2,7)"
   ]
  },
  {
   "cell_type": "code",
   "execution_count": 37,
   "id": "77ba1bc9",
   "metadata": {},
   "outputs": [
    {
     "data": {
      "text/plain": [
       "32"
      ]
     },
     "execution_count": 37,
     "metadata": {},
     "output_type": "execute_result"
    }
   ],
   "source": [
    "ord(' ')"
   ]
  },
  {
   "cell_type": "code",
   "execution_count": 38,
   "id": "9fe921af",
   "metadata": {},
   "outputs": [
    {
     "data": {
      "text/plain": [
       "[(0, 2), (1, 3)]"
      ]
     },
     "execution_count": 38,
     "metadata": {},
     "output_type": "execute_result"
    }
   ],
   "source": [
    "list(enumerate([2, 3]))"
   ]
  },
  {
   "cell_type": "code",
   "execution_count": 40,
   "id": "3669689b",
   "metadata": {},
   "outputs": [
    {
     "data": {
      "text/plain": [
       "1"
      ]
     },
     "execution_count": 40,
     "metadata": {},
     "output_type": "execute_result"
    }
   ],
   "source": [
    "x = 3\n",
    "eval('x^2')"
   ]
  },
  {
   "cell_type": "code",
   "execution_count": 41,
   "id": "38838cdd",
   "metadata": {},
   "outputs": [
    {
     "data": {
      "text/plain": [
       "[10, 9, 8, 7, 6, 5, 4, 3, 2]"
      ]
     },
     "execution_count": 41,
     "metadata": {},
     "output_type": "execute_result"
    }
   ],
   "source": [
    "list(range(10,1,-1))"
   ]
  },
  {
   "cell_type": "code",
   "execution_count": 43,
   "id": "05200a7f",
   "metadata": {},
   "outputs": [
    {
     "data": {
      "text/plain": [
       "[10, 9, 8, 7, 6, 5, 4, 3, 2, 1]"
      ]
     },
     "execution_count": 43,
     "metadata": {},
     "output_type": "execute_result"
    }
   ],
   "source": [
    "list(reversed(range(1,11)))"
   ]
  },
  {
   "cell_type": "code",
   "execution_count": 46,
   "id": "869cab79",
   "metadata": {},
   "outputs": [
    {
     "name": "stdout",
     "output_type": "stream",
     "text": [
      "(1, 2, 3)\n"
     ]
    }
   ],
   "source": [
    "tup = (1,2,3)\n",
    "print(tup)"
   ]
  },
  {
   "cell_type": "code",
   "execution_count": null,
   "id": "15d11a69",
   "metadata": {},
   "outputs": [],
   "source": [
    "dict()"
   ]
  }
 ],
 "metadata": {
  "kernelspec": {
   "display_name": "Python 3",
   "language": "python",
   "name": "python3"
  },
  "language_info": {
   "codemirror_mode": {
    "name": "ipython",
    "version": 3
   },
   "file_extension": ".py",
   "mimetype": "text/x-python",
   "name": "python",
   "nbconvert_exporter": "python",
   "pygments_lexer": "ipython3",
   "version": "3.8.8"
  }
 },
 "nbformat": 4,
 "nbformat_minor": 5
}
