{
 "cells": [
  {
   "cell_type": "code",
   "execution_count": 4,
   "id": "0a01b5a5",
   "metadata": {},
   "outputs": [
    {
     "name": "stdout",
     "output_type": "stream",
     "text": [
      "Good morning Sagar\n",
      "This function will greet you\n"
     ]
    }
   ],
   "source": [
    "# functions helps in resuablity of the code\n",
    "# function definition\n",
    "def greetings(name):\n",
    "    \"\"\"This function will greet you\"\"\" # this is a doc string. this tells you what a function would do\n",
    "    print(\"Good morning {}\".format(name))\n",
    "greetings(\"Sagar\") # this is called function invoking\n",
    "# to just print the doc string of a funtion, use print(funcName.__doc__)\n",
    "print(greetings.__doc__) # this will print the doc string of the said function\n",
    "\n",
    "\n"
   ]
  },
  {
   "cell_type": "code",
   "execution_count": 8,
   "id": "40b5e41d",
   "metadata": {},
   "outputs": [
    {
     "name": "stdout",
     "output_type": "stream",
     "text": [
      "15\n",
      "it will return the sum of provided 2 numbers\n"
     ]
    }
   ],
   "source": [
    "# the return keyword\n",
    "# the return keyword is used to exit the function, and go back to the place from where the funtion is called\n",
    "def add(a,b):\n",
    "    \"\"\"it will return the sum of provided 2 numbers\"\"\"\n",
    "    return a+b\n",
    "d = add(7,8)\n",
    "print(d)\n",
    "print(add.__doc__)\n",
    "\n"
   ]
  },
  {
   "cell_type": "code",
   "execution_count": 12,
   "id": "3c412013",
   "metadata": {},
   "outputs": [
    {
     "name": "stdout",
     "output_type": "stream",
     "text": [
      "654729075\n"
     ]
    }
   ],
   "source": [
    "def prod(lst):\n",
    "    \"the parameter is a list and it will return the product of all number in the list\"\n",
    "    p = 1\n",
    "    for i in lst:\n",
    "        p*=i\n",
    "    return p\n",
    "\n",
    "lst = [x for x in range(1,21,2)]\n",
    "print(prod(lst))\n",
    "\n"
   ]
  },
  {
   "cell_type": "code",
   "execution_count": 13,
   "id": "f173e449",
   "metadata": {},
   "outputs": [
    {
     "name": "stdout",
     "output_type": "stream",
     "text": [
      "(9, 3, 18, 2.0)\n"
     ]
    }
   ],
   "source": [
    "# function returning multiple values.\n",
    "# you can return multiple values from a function in the form of a tuple\n",
    "def calc(a,b):\n",
    "    \"\"\"calculates and returns 4 basic operations\"\"\"\n",
    "    res1 = a+b\n",
    "    res2 = a-b\n",
    "    res3 = a*b\n",
    "    res4 = a/b\n",
    "    return (res1,res2,res3,res4)\n",
    "\n",
    "print(calc(6,3))\n",
    "\n",
    "\n"
   ]
  },
  {
   "cell_type": "code",
   "execution_count": 18,
   "id": "6e2bf702",
   "metadata": {},
   "outputs": [
    {
     "name": "stdout",
     "output_type": "stream",
     "text": [
      "55\n"
     ]
    }
   ],
   "source": [
    "# the scope of a variable\n",
    "# so python has a scope of variable just like c and c++\n",
    "x = 0\n",
    "for i in range(1,11):\n",
    "    x+=i\n",
    "print(x)"
   ]
  },
  {
   "cell_type": "code",
   "execution_count": 20,
   "id": "775fbff5",
   "metadata": {},
   "outputs": [
    {
     "name": "stdout",
     "output_type": "stream",
     "text": [
      "50\n"
     ]
    }
   ],
   "source": [
    "x = 50\n",
    "def func():\n",
    "    x = 2 # this x has no value outside the scope of this function\n",
    "func()\n",
    "print(x)"
   ]
  },
  {
   "cell_type": "code",
   "execution_count": 21,
   "id": "df602a42",
   "metadata": {},
   "outputs": [
    {
     "name": "stdout",
     "output_type": "stream",
     "text": [
      "56\n"
     ]
    }
   ],
   "source": [
    "a=10\n",
    "b=20\n",
    " \n",
    "def change():\n",
    "    global b\n",
    "    a=45\n",
    "    b=56\n",
    " \n",
    "change()\n",
    "print(b)"
   ]
  },
  {
   "cell_type": "code",
   "execution_count": 26,
   "id": "43c836f7",
   "metadata": {},
   "outputs": [
    {
     "name": "stdout",
     "output_type": "stream",
     "text": [
      "9\n"
     ]
    }
   ],
   "source": [
    "# lambda functions or anonymous funcitnos or functions without names\n",
    "# syntax of lambda function is lambda param1, param2... : return statement\n",
    "# for eg\n",
    "add = (lambda a,b : a+b)\n",
    "# lambda function dont have any names\n",
    "print(add(4,5))\n",
    "\n",
    "\n",
    "\n",
    "\n"
   ]
  },
  {
   "cell_type": "code",
   "execution_count": 27,
   "id": "4ea2380b",
   "metadata": {},
   "outputs": [
    {
     "name": "stdout",
     "output_type": "stream",
     "text": [
      "36\n"
     ]
    }
   ],
   "source": [
    "# write a function to find the lcm of 2 numbers\n",
    "def lcm(a,b):\n",
    "    \"\"\"finds the lcm of 2 numbers\"\"\"\n",
    "    maxNum = (a if a>b else b)\n",
    "    while True:\n",
    "        if(maxNum%a == 0 and maxNum%b == 0):\n",
    "            return maxNum\n",
    "        else:\n",
    "            maxNum+=1\n",
    "            \n",
    "res = lcm(4,18)\n",
    "print(res)\n",
    "        \n",
    "        \n",
    "        \n",
    "        \n",
    "        \n",
    "        \n",
    "        \n",
    "        "
   ]
  },
  {
   "cell_type": "code",
   "execution_count": 28,
   "id": "a4f35fb9",
   "metadata": {},
   "outputs": [
    {
     "name": "stdout",
     "output_type": "stream",
     "text": [
      "0\n",
      "1\n",
      "2\n"
     ]
    }
   ],
   "source": [
    "# positional argumentsa are required to pass\n",
    "# default arguments\n",
    "# parameter that have some default values. they are optional parameters\n",
    "# default parameters always comes after positional parameters\n",
    "#def func(param = \"default\") this is how we can set a default parameter. it is only used when we dont send the parameter during function invoking\n",
    "# arbitary agruments can receive any numbe of arguments adn store them in a tuple.\n",
    "for i in range(3):\n",
    "    print(i)\n",
    "\n",
    "\n"
   ]
  },
  {
   "cell_type": "code",
   "execution_count": 29,
   "id": "dec1cbd1",
   "metadata": {},
   "outputs": [
    {
     "name": "stdout",
     "output_type": "stream",
     "text": [
      "[0, None, 1, None, 2, None]\n"
     ]
    }
   ],
   "source": [
    "def foo(i, x=[]):\n",
    "    x.append(x.append(i))\n",
    "    return x\n",
    " \n",
    "for i in range(3):\n",
    "    y = foo(i)\n",
    " \n",
    "print(y)\n"
   ]
  },
  {
   "cell_type": "code",
   "execution_count": 30,
   "id": "effdde4b",
   "metadata": {},
   "outputs": [
    {
     "name": "stdout",
     "output_type": "stream",
     "text": [
      "True\n"
     ]
    }
   ],
   "source": [
    "def foo(x):\n",
    "    x[0] = ['def']\n",
    "    x[1] = ['abc']\n",
    "    return id(x)\n",
    " \n",
    "q = ['abc', 'def']\n",
    "print(id(q) == foo(q))"
   ]
  },
  {
   "cell_type": "code",
   "execution_count": null,
   "id": "a3357b66",
   "metadata": {},
   "outputs": [],
   "source": []
  }
 ],
 "metadata": {
  "kernelspec": {
   "display_name": "Python 3",
   "language": "python",
   "name": "python3"
  },
  "language_info": {
   "codemirror_mode": {
    "name": "ipython",
    "version": 3
   },
   "file_extension": ".py",
   "mimetype": "text/x-python",
   "name": "python",
   "nbconvert_exporter": "python",
   "pygments_lexer": "ipython3",
   "version": "3.8.8"
  }
 },
 "nbformat": 4,
 "nbformat_minor": 5
}
