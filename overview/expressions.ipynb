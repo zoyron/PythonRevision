{
 "cells": [
  {
   "cell_type": "markdown",
   "id": "dfc43ddf",
   "metadata": {},
   "source": [
    "### In this we will be learning about operators and expressions in python"
   ]
  },
  {
   "cell_type": "code",
   "execution_count": 1,
   "id": "691fdc6a",
   "metadata": {},
   "outputs": [
    {
     "name": "stdout",
     "output_type": "stream",
     "text": [
      "expressions and operators\n"
     ]
    }
   ],
   "source": [
    "print(\"expressions and operators\")"
   ]
  },
  {
   "cell_type": "code",
   "execution_count": 2,
   "id": "7b81454c",
   "metadata": {},
   "outputs": [
    {
     "name": "stdout",
     "output_type": "stream",
     "text": [
      "25\n"
     ]
    }
   ],
   "source": [
    "no1 = 12\n",
    "no2 = 13\n",
    "add = no1+no2\n",
    "print(add)"
   ]
  },
  {
   "cell_type": "code",
   "execution_count": 6,
   "id": "77fc8b5c",
   "metadata": {},
   "outputs": [
    {
     "name": "stdout",
     "output_type": "stream",
     "text": [
      "1.3333333333333333\n",
      "1\n",
      "6\n",
      "9\n",
      "2\n"
     ]
    }
   ],
   "source": [
    "# \"/\" single slash division gives float values, \"//\" double slash division gives integer division\n",
    "print(4/3)\n",
    "print(4//3)\n",
    "print(3*2)\n",
    "print(3**2)\n",
    "print(14%6) # this is the modulous operator"
   ]
  },
  {
   "cell_type": "code",
   "execution_count": 10,
   "id": "8258779e",
   "metadata": {},
   "outputs": [
    {
     "ename": "SyntaxError",
     "evalue": "invalid syntax (<ipython-input-10-98fd98b3e3c3>, line 6)",
     "output_type": "error",
     "traceback": [
      "\u001b[0;36m  File \u001b[0;32m\"<ipython-input-10-98fd98b3e3c3>\"\u001b[0;36m, line \u001b[0;32m6\u001b[0m\n\u001b[0;31m    ori g\u001b[0m\n\u001b[0m        ^\u001b[0m\n\u001b[0;31mSyntaxError\u001b[0m\u001b[0;31m:\u001b[0m invalid syntax\n"
     ]
    }
   ],
   "source": [
    "#comparision operators\n",
    "print(1 == 2)\n",
    "print(12 <= 13)\n",
    "print(12 != 13)\n",
    "# \"=\" this is aggignment operator, whereas \" == \" this is comparision operator\n",
    "ori g"
   ]
  },
  {
   "cell_type": "code",
   "execution_count": 19,
   "id": "a2f580e6",
   "metadata": {},
   "outputs": [
    {
     "name": "stdout",
     "output_type": "stream",
     "text": [
      "False\n",
      "True\n",
      "True\n",
      "True\n",
      "False\n"
     ]
    }
   ],
   "source": [
    "# logical operators\n",
    "# and operator == \"and\"\n",
    "# or operator  == \"or\"\n",
    "# not operator == \"not\"\n",
    "print((10 > 6) and (9 < 8))\n",
    "print((20 != 3))\n",
    "print((10 > 0) or (1<2))\n",
    "print(not False)\n",
    "print(not True)"
   ]
  },
  {
   "cell_type": "code",
   "execution_count": 20,
   "id": "e97e57a4",
   "metadata": {},
   "outputs": [
    {
     "data": {
      "text/plain": [
       "'t'"
      ]
     },
     "execution_count": 20,
     "metadata": {},
     "output_type": "execute_result"
    }
   ],
   "source": [
    "['f', 't'][bool('spam')]"
   ]
  },
  {
   "cell_type": "code",
   "execution_count": 21,
   "id": "1023a147",
   "metadata": {},
   "outputs": [
    {
     "name": "stdout",
     "output_type": "stream",
     "text": [
      "1 2 3\n"
     ]
    }
   ],
   "source": [
    "print(1,2,3)"
   ]
  },
  {
   "cell_type": "code",
   "execution_count": 2,
   "id": "53957b10",
   "metadata": {},
   "outputs": [
    {
     "name": "stdout",
     "output_type": "stream",
     "text": [
      "0b1010\n",
      "0b100\n"
     ]
    }
   ],
   "source": [
    "#bitwise operators\n",
    "#bitwise operators works on the bits of the values, to use that we have to use the function bin() it is short for binary\n",
    "print(bin(10))\n",
    "print(bin(4))"
   ]
  },
  {
   "cell_type": "code",
   "execution_count": 4,
   "id": "ef278cce",
   "metadata": {},
   "outputs": [
    {
     "name": "stdout",
     "output_type": "stream",
     "text": [
      "0\n",
      "14\n",
      "14\n"
     ]
    }
   ],
   "source": [
    "print(10 & 4)\n",
    "print(10 | 4)\n",
    "print(10 ^ 4)"
   ]
  },
  {
   "cell_type": "code",
   "execution_count": 5,
   "id": "eb7533d6",
   "metadata": {},
   "outputs": [],
   "source": [
    "# assignment operator\n",
    "# single equal to operator is the assignment operator\n",
    "# double operator is the comparision operator"
   ]
  },
  {
   "cell_type": "code",
   "execution_count": 6,
   "id": "aa9b5535",
   "metadata": {},
   "outputs": [
    {
     "name": "stdout",
     "output_type": "stream",
     "text": [
      "2\n"
     ]
    }
   ],
   "source": [
    "a = 2\n",
    "print(++a)"
   ]
  },
  {
   "cell_type": "code",
   "execution_count": 7,
   "id": "1cd174b2",
   "metadata": {},
   "outputs": [
    {
     "data": {
      "text/plain": [
       "2"
      ]
     },
     "execution_count": 7,
     "metadata": {},
     "output_type": "execute_result"
    }
   ],
   "source": [
    "#this kind of operator doesnt work in python you will have to use += or -=\n",
    "++a"
   ]
  },
  {
   "cell_type": "code",
   "execution_count": 9,
   "id": "714c041b",
   "metadata": {},
   "outputs": [],
   "source": [
    "# special oeprator\n",
    "# whether a variable belong to another variable or not or does it belong to a subset of the other variable or not"
   ]
  },
  {
   "cell_type": "code",
   "execution_count": 13,
   "id": "aefbd374",
   "metadata": {},
   "outputs": [
    {
     "name": "stdout",
     "output_type": "stream",
     "text": [
      "True\n",
      "False\n",
      "False\n",
      "True\n",
      "False\n"
     ]
    }
   ],
   "source": [
    "# example of special operators\n",
    "str = \"Good morning\"\n",
    "print(\"Good\" in str)\n",
    "print(\"bad\" in str)\n",
    "# identity operator - checks whether two variables have same address or not\n",
    "a = 10\n",
    "b = 20\n",
    "print(a is b)\n",
    "\n",
    "# dont get confused with \"==\" and \"is\" \"==\" checks the values, but \"is\" checks the address. Take the following example to understand\n",
    "c = 1000\n",
    "d = 1000\n",
    "print(c == d)\n",
    "print(c is d)\n",
    "# and \"is not\" is the negation of \"is\"."
   ]
  }
 ],
 "metadata": {
  "kernelspec": {
   "display_name": "Python 3",
   "language": "python",
   "name": "python3"
  },
  "language_info": {
   "codemirror_mode": {
    "name": "ipython",
    "version": 3
   },
   "file_extension": ".py",
   "mimetype": "text/x-python",
   "name": "python",
   "nbconvert_exporter": "python",
   "pygments_lexer": "ipython3",
   "version": "3.8.8"
  }
 },
 "nbformat": 4,
 "nbformat_minor": 5
}
