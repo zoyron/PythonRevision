{
 "cells": [
  {
   "cell_type": "code",
   "execution_count": 1,
   "id": "18654c65",
   "metadata": {},
   "outputs": [
    {
     "name": "stdout",
     "output_type": "stream",
     "text": [
      "hello world\n",
      "the jupyter notebook is autocomplete\n"
     ]
    }
   ],
   "source": [
    "print(\"hello world\")\n",
    "print(\"the jupyter notebook is autocomplete\")"
   ]
  },
  {
   "cell_type": "code",
   "execution_count": null,
   "id": "86ddc028",
   "metadata": {},
   "outputs": [],
   "source": [
    "for i in "
   ]
  }
 ],
 "metadata": {
  "kernelspec": {
   "display_name": "Python 3",
   "language": "python",
   "name": "python3"
  },
  "language_info": {
   "codemirror_mode": {
    "name": "ipython",
    "version": 3
   },
   "file_extension": ".py",
   "mimetype": "text/x-python",
   "name": "python",
   "nbconvert_exporter": "python",
   "pygments_lexer": "ipython3",
   "version": "3.8.8"
  }
 },
 "nbformat": 4,
 "nbformat_minor": 5
}
