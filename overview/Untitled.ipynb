{
 "cells": [
  {
   "cell_type": "code",
   "execution_count": 1,
   "id": "060e62b4",
   "metadata": {},
   "outputs": [
    {
     "name": "stdout",
     "output_type": "stream",
     "text": [
      "hello world\n",
      "the jupyter notebook is autocomplete\n"
     ]
    }
   ],
   "source": [
    "print(\"hello world\")\n",
    "print(\"the jupyter notebook is autocomplete\")"
   ]
  },
  {
   "cell_type": "code",
   "execution_count": 2,
   "id": "e4df90e2",
   "metadata": {},
   "outputs": [
    {
     "name": "stdout",
     "output_type": "stream",
     "text": [
      "1\n",
      "11\n"
     ]
    }
   ],
   "source": [
    "for i in (1,11):\n",
    "    print(i)"
   ]
  },
  {
   "cell_type": "code",
   "execution_count": 3,
   "id": "fc10a894",
   "metadata": {},
   "outputs": [
    {
     "name": "stdout",
     "output_type": "stream",
     "text": [
      "1\n",
      "2\n",
      "3\n",
      "4\n",
      "5\n",
      "6\n",
      "7\n",
      "8\n",
      "9\n",
      "10\n"
     ]
    }
   ],
   "source": [
    "for i in range(1,11):\n",
    "    print(i)"
   ]
  },
  {
   "cell_type": "code",
   "execution_count": 4,
   "id": "3b1e746d",
   "metadata": {},
   "outputs": [
    {
     "name": "stdout",
     "output_type": "stream",
     "text": [
      "1\n",
      "3\n",
      "5\n",
      "7\n",
      "9\n"
     ]
    }
   ],
   "source": [
    "for i in range(1,11,2):\n",
    "    print(i)"
   ]
  },
  {
   "cell_type": "code",
   "execution_count": 7,
   "id": "a03a7b1d",
   "metadata": {},
   "outputs": [
    {
     "name": "stdout",
     "output_type": "stream",
     "text": [
      "interpreter test 1\n",
      "initiating\n"
     ]
    }
   ],
   "source": [
    "print(\"interpreter test 1\")\n",
    "print(\"initiating\")"
   ]
  },
  {
   "cell_type": "code",
   "execution_count": 1,
   "id": "1f0ed460",
   "metadata": {},
   "outputs": [
    {
     "name": "stdout",
     "output_type": "stream",
     "text": [
      "hello world\n"
     ]
    }
   ],
   "source": [
    "print(\"hello world\")\n"
   ]
  },
  {
   "cell_type": "code",
   "execution_count": 2,
   "id": "4df09cdc",
   "metadata": {},
   "outputs": [],
   "source": [
    "#comments will always start with a hash in python\n",
    "#creating a variable\n",
    "i = 42"
   ]
  },
  {
   "cell_type": "code",
   "execution_count": 3,
   "id": "53e213f6",
   "metadata": {},
   "outputs": [
    {
     "name": "stdout",
     "output_type": "stream",
     "text": [
      "42\n"
     ]
    }
   ],
   "source": [
    "print(i)"
   ]
  },
  {
   "cell_type": "code",
   "execution_count": 4,
   "id": "95027055",
   "metadata": {},
   "outputs": [],
   "source": [
    "i   = \"Dagar\""
   ]
  },
  {
   "cell_type": "code",
   "execution_count": 5,
   "id": "4f636db9",
   "metadata": {},
   "outputs": [
    {
     "name": "stdout",
     "output_type": "stream",
     "text": [
      "Dagar\n"
     ]
    }
   ],
   "source": [
    "print(i)"
   ]
  },
  {
   "cell_type": "code",
   "execution_count": 6,
   "id": "ba46d33f",
   "metadata": {},
   "outputs": [
    {
     "name": "stdout",
     "output_type": "stream",
     "text": [
      "<class 'str'>\n"
     ]
    }
   ],
   "source": [
    "#1abc is an invalid identifier/variable name\n",
    "print(type(i))"
   ]
  },
  {
   "cell_type": "code",
   "execution_count": 15,
   "id": "8ca9d797",
   "metadata": {},
   "outputs": [
    {
     "name": "stdout",
     "output_type": "stream",
     "text": [
      "<class 'int'>\n"
     ]
    }
   ],
   "source": [
    "i = 42\n",
    "print(type(i))"
   ]
  },
  {
   "cell_type": "code",
   "execution_count": 16,
   "id": "44b2e12d",
   "metadata": {},
   "outputs": [
    {
     "data": {
      "text/plain": [
       "4367322752"
      ]
     },
     "execution_count": 16,
     "metadata": {},
     "output_type": "execute_result"
    }
   ],
   "source": [
    "id(i)"
   ]
  },
  {
   "cell_type": "code",
   "execution_count": 14,
   "id": "6cf932c6",
   "metadata": {},
   "outputs": [
    {
     "name": "stdout",
     "output_type": "stream",
     "text": [
      "7838387677\n"
     ]
    },
    {
     "data": {
      "text/plain": [
       "int"
      ]
     },
     "execution_count": 14,
     "metadata": {},
     "output_type": "execute_result"
    }
   ],
   "source": [
    "#python is a dynamic typed language. Eg no need to define a variable for sepaarate datatypes. We can store and integer as well as a string in the variable x without specifically changing its data type\n",
    "#integer float string boolean none, pay special attention to none\n",
    "my_num  = 7838387677\n",
    "print(my_num)\n",
    "#everything in python is an object\n",
    "type(my_num)"
   ]
  },
  {
   "cell_type": "code",
   "execution_count": 21,
   "id": "36278986",
   "metadata": {},
   "outputs": [
    {
     "name": "stdout",
     "output_type": "stream",
     "text": [
      "(2+3j)\n"
     ]
    }
   ],
   "source": [
    "x  = 2 + 3j\n",
    "#the type of x in this case will be complex number, complex number just like we studied in maths\n",
    "print(x)"
   ]
  },
  {
   "cell_type": "code",
   "execution_count": 22,
   "id": "403ae5be",
   "metadata": {},
   "outputs": [
    {
     "name": "stdout",
     "output_type": "stream",
     "text": [
      "python is kinda fun, but i dont really care about that, all I want to do is to create my own compiler and my own programmign language\n"
     ]
    }
   ],
   "source": [
    "#i think that only j is used for representing the complex part of a complex number\n",
    "str = \"python is kinda fun, but i dont really care about that, all I want to do is to create my own compiler and my own programmign language\"\n",
    "print(str)"
   ]
  },
  {
   "cell_type": "code",
   "execution_count": 1,
   "id": "fbcb4e30",
   "metadata": {},
   "outputs": [
    {
     "name": "stdout",
     "output_type": "stream",
     "text": [
      "input a name pleaseSagar\n"
     ]
    }
   ],
   "source": [
    "name = input(\"input a name please\")"
   ]
  },
  {
   "cell_type": "code",
   "execution_count": 2,
   "id": "4b18b493",
   "metadata": {},
   "outputs": [
    {
     "name": "stdout",
     "output_type": "stream",
     "text": [
      "Sagar\n"
     ]
    }
   ],
   "source": [
    "print(name)"
   ]
  },
  {
   "cell_type": "code",
   "execution_count": 3,
   "id": "a54f1bc8",
   "metadata": {},
   "outputs": [],
   "source": [
    "#the value entered is stored int the variable name\n",
    "#just like the variables in c++ the value \"sagar\" is stored in the variable name inside a box just like we used to imagine box\n",
    "#also every input taken using the input method is always always  converted to a string, we have to use type casting to convert it back to the types we want, because the default input value is always string in python"
   ]
  },
  {
   "cell_type": "code",
   "execution_count": 4,
   "id": "9ebc6468",
   "metadata": {},
   "outputs": [
    {
     "name": "stdout",
     "output_type": "stream",
     "text": [
      "enter a number please 10\n"
     ]
    }
   ],
   "source": [
    "num = int(input(\"enter a number please \")) # this is how we do the typecasting. so for input we will be doing int(input()) i suppose"
   ]
  },
  {
   "cell_type": "code",
   "execution_count": 5,
   "id": "dd70639a",
   "metadata": {},
   "outputs": [
    {
     "data": {
      "text/plain": [
       "int"
      ]
     },
     "execution_count": 5,
     "metadata": {},
     "output_type": "execute_result"
    }
   ],
   "source": [
    "type(num)"
   ]
  },
  {
   "cell_type": "code",
   "execution_count": 6,
   "id": "d29ed646",
   "metadata": {},
   "outputs": [
    {
     "name": "stdout",
     "output_type": "stream",
     "text": [
      "enter your age please 24\n"
     ]
    }
   ],
   "source": [
    "# yay it worked, the type of num is int. We typecasted successfully\n",
    "#lets take our age as input\n",
    "age = int(input(\"enter your age please \"))"
   ]
  },
  {
   "cell_type": "code",
   "execution_count": 7,
   "id": "896a3080",
   "metadata": {},
   "outputs": [
    {
     "name": "stdout",
     "output_type": "stream",
     "text": [
      "24\n",
      "<class 'int'>\n"
     ]
    }
   ],
   "source": [
    "print(age)\n",
    "print(type(age))"
   ]
  },
  {
   "cell_type": "code",
   "execution_count": 8,
   "id": "aee42567",
   "metadata": {},
   "outputs": [],
   "source": [
    "#arre statement means the code that we write. it could be either multiline or single line\n",
    "#to continue a same code in next line we can use the backward slash,\n",
    "# 1+2+3+4+5+6+7+8+9+0 can also be written as\n",
    "# 1+2+3+4\\\n",
    "# 5+6+7+8+9+0 this is just another way of writing instead of writing everything in one line."
   ]
  },
  {
   "cell_type": "code",
   "execution_count": 9,
   "id": "d2eabbed",
   "metadata": {},
   "outputs": [],
   "source": [
    "#lets understand output formatting in pyton"
   ]
  },
  {
   "cell_type": "code",
   "execution_count": 10,
   "id": "f6a61e28",
   "metadata": {},
   "outputs": [
    {
     "name": "stdout",
     "output_type": "stream",
     "text": [
      "the value of a is  10\n"
     ]
    }
   ],
   "source": [
    "a = 10\n",
    "b = 20\n",
    "print(\"the value of a is \", a)"
   ]
  },
  {
   "cell_type": "code",
   "execution_count": 11,
   "id": "e3451d32",
   "metadata": {},
   "outputs": [
    {
     "name": "stdout",
     "output_type": "stream",
     "text": [
      "the value of variable a is 10 and of b is 20\n"
     ]
    }
   ],
   "source": [
    "print(\"the value of variable a is {} and of b is {}\".format(a,b))\n",
    "#the first parameter of format function will go to a and the second valur of the parameter  will go the variable b, this is how it is done in python now."
   ]
  },
  {
   "cell_type": "code",
   "execution_count": 12,
   "id": "1ea6eb9c",
   "metadata": {},
   "outputs": [
    {
     "name": "stdout",
     "output_type": "stream",
     "text": [
      "value of b is 20 and value of a is 10\n"
     ]
    }
   ],
   "source": [
    "print(\"value of b is {1} and value of a is {0}\".format(a,b)) # this way b will go the place 1 and value of a will go to place 2"
   ]
  },
  {
   "cell_type": "code",
   "execution_count": 13,
   "id": "444f0bd8",
   "metadata": {},
   "outputs": [
    {
     "name": "stdout",
     "output_type": "stream",
     "text": [
      "65.5\n"
     ]
    }
   ],
   "source": [
    "grade1  = 25\n",
    "grade2 =  75\n",
    "average = grade1 + grade2/grade1 + grade2/2\n",
    "print(average)"
   ]
  },
  {
   "cell_type": "code",
   "execution_count": null,
   "id": "87763c6e",
   "metadata": {},
   "outputs": [],
   "source": []
  }
 ],
 "metadata": {
  "kernelspec": {
   "display_name": "Python 3",
   "language": "python",
   "name": "python3"
  },
  "language_info": {
   "codemirror_mode": {
    "name": "ipython",
    "version": 3
   },
   "file_extension": ".py",
   "mimetype": "text/x-python",
   "name": "python",
   "nbconvert_exporter": "python",
   "pygments_lexer": "ipython3",
   "version": "3.8.8"
  }
 },
 "nbformat": 4,
 "nbformat_minor": 5
}
