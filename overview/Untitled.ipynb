{
 "cells": [
  {
   "cell_type": "code",
   "execution_count": 1,
   "id": "060e62b4",
   "metadata": {},
   "outputs": [
    {
     "name": "stdout",
     "output_type": "stream",
     "text": [
      "hello world\n",
      "the jupyter notebook is autocomplete\n"
     ]
    }
   ],
   "source": [
    "print(\"hello world\")\n",
    "print(\"the jupyter notebook is autocomplete\")"
   ]
  },
  {
   "cell_type": "code",
   "execution_count": 2,
   "id": "e4df90e2",
   "metadata": {},
   "outputs": [
    {
     "name": "stdout",
     "output_type": "stream",
     "text": [
      "1\n",
      "11\n"
     ]
    }
   ],
   "source": [
    "for i in (1,11):\n",
    "    print(i)"
   ]
  },
  {
   "cell_type": "code",
   "execution_count": 3,
   "id": "fc10a894",
   "metadata": {},
   "outputs": [
    {
     "name": "stdout",
     "output_type": "stream",
     "text": [
      "1\n",
      "2\n",
      "3\n",
      "4\n",
      "5\n",
      "6\n",
      "7\n",
      "8\n",
      "9\n",
      "10\n"
     ]
    }
   ],
   "source": [
    "for i in range(1,11):\n",
    "    print(i)"
   ]
  },
  {
   "cell_type": "code",
   "execution_count": 4,
   "id": "3b1e746d",
   "metadata": {},
   "outputs": [
    {
     "name": "stdout",
     "output_type": "stream",
     "text": [
      "1\n",
      "3\n",
      "5\n",
      "7\n",
      "9\n"
     ]
    }
   ],
   "source": [
    "for i in range(1,11,2):\n",
    "    print(i)"
   ]
  },
  {
   "cell_type": "code",
   "execution_count": 7,
   "id": "a03a7b1d",
   "metadata": {},
   "outputs": [
    {
     "name": "stdout",
     "output_type": "stream",
     "text": [
      "interpreter test 1\n",
      "initiating\n"
     ]
    }
   ],
   "source": [
    "print(\"interpreter test 1\")\n",
    "print(\"initiating\")"
   ]
  },
  {
   "cell_type": "code",
   "execution_count": 1,
   "id": "1f0ed460",
   "metadata": {},
   "outputs": [
    {
     "name": "stdout",
     "output_type": "stream",
     "text": [
      "hello world\n"
     ]
    }
   ],
   "source": [
    "print(\"hello world\")\n"
   ]
  },
  {
   "cell_type": "code",
   "execution_count": 2,
   "id": "4df09cdc",
   "metadata": {},
   "outputs": [],
   "source": [
    "#comments will always start with a hash in python\n",
    "#creating a variable\n",
    "i = 42"
   ]
  },
  {
   "cell_type": "code",
   "execution_count": 3,
   "id": "53e213f6",
   "metadata": {},
   "outputs": [
    {
     "name": "stdout",
     "output_type": "stream",
     "text": [
      "42\n"
     ]
    }
   ],
   "source": [
    "print(i)"
   ]
  },
  {
   "cell_type": "code",
   "execution_count": 4,
   "id": "95027055",
   "metadata": {},
   "outputs": [],
   "source": [
    "i   = \"Dagar\""
   ]
  },
  {
   "cell_type": "code",
   "execution_count": 5,
   "id": "4f636db9",
   "metadata": {},
   "outputs": [
    {
     "name": "stdout",
     "output_type": "stream",
     "text": [
      "Dagar\n"
     ]
    }
   ],
   "source": [
    "print(i)"
   ]
  },
  {
   "cell_type": "code",
   "execution_count": 6,
   "id": "ba46d33f",
   "metadata": {},
   "outputs": [
    {
     "name": "stdout",
     "output_type": "stream",
     "text": [
      "<class 'str'>\n"
     ]
    }
   ],
   "source": [
    "#1abc is an invalid identifier/variable name\n",
    "print(type(i))"
   ]
  },
  {
   "cell_type": "code",
   "execution_count": 15,
   "id": "8ca9d797",
   "metadata": {},
   "outputs": [
    {
     "name": "stdout",
     "output_type": "stream",
     "text": [
      "<class 'int'>\n"
     ]
    }
   ],
   "source": [
    "i = 42\n",
    "print(type(i))"
   ]
  },
  {
   "cell_type": "code",
   "execution_count": 16,
   "id": "44b2e12d",
   "metadata": {},
   "outputs": [
    {
     "data": {
      "text/plain": [
       "4367322752"
      ]
     },
     "execution_count": 16,
     "metadata": {},
     "output_type": "execute_result"
    }
   ],
   "source": [
    "id(i)"
   ]
  },
  {
   "cell_type": "code",
   "execution_count": 14,
   "id": "6cf932c6",
   "metadata": {},
   "outputs": [
    {
     "name": "stdout",
     "output_type": "stream",
     "text": [
      "7838387677\n"
     ]
    },
    {
     "data": {
      "text/plain": [
       "int"
      ]
     },
     "execution_count": 14,
     "metadata": {},
     "output_type": "execute_result"
    }
   ],
   "source": [
    "#python is a dynamic typed language. Eg no need to define a variable for sepaarate datatypes. We can store and integer as well as a string in the variable x without specifically changing its data type\n",
    "#integer float string boolean none, pay special attention to none\n",
    "my_num  = 7838387677\n",
    "print(my_num)\n",
    "#everything in python is an object\n",
    "type(my_num)"
   ]
  },
  {
   "cell_type": "code",
   "execution_count": 21,
   "id": "36278986",
   "metadata": {},
   "outputs": [
    {
     "name": "stdout",
     "output_type": "stream",
     "text": [
      "(2+3j)\n"
     ]
    }
   ],
   "source": [
    "x  = 2 + 3j\n",
    "#the type of x in this case will be complex number, complex number just like we studied in maths\n",
    "print(x)"
   ]
  },
  {
   "cell_type": "code",
   "execution_count": 22,
   "id": "403ae5be",
   "metadata": {},
   "outputs": [
    {
     "name": "stdout",
     "output_type": "stream",
     "text": [
      "python is kinda fun, but i dont really care about that, all I want to do is to create my own compiler and my own programmign language\n"
     ]
    }
   ],
   "source": [
    "#i think that only j is used for representing the complex part of a complex number\n",
    "str = \"python is kinda fun, but i dont really care about that, all I want to do is to create my own compiler and my own programmign language\"\n",
    "print(str)"
   ]
  },
  {
   "cell_type": "code",
   "execution_count": null,
   "id": "fbcb4e30",
   "metadata": {},
   "outputs": [],
   "source": []
  }
 ],
 "metadata": {
  "kernelspec": {
   "display_name": "Python 3",
   "language": "python",
   "name": "python3"
  },
  "language_info": {
   "codemirror_mode": {
    "name": "ipython",
    "version": 3
   },
   "file_extension": ".py",
   "mimetype": "text/x-python",
   "name": "python",
   "nbconvert_exporter": "python",
   "pygments_lexer": "ipython3",
   "version": "3.8.8"
  }
 },
 "nbformat": 4,
 "nbformat_minor": 5
}
