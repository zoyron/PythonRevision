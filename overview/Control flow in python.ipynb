{
 "cells": [
  {
   "cell_type": "code",
   "execution_count": 1,
   "id": "e9b6f3fb",
   "metadata": {},
   "outputs": [
    {
     "name": "stdout",
     "output_type": "stream",
     "text": [
      "J, h, o, n, "
     ]
    }
   ],
   "source": [
    "for l in 'Jhon':\n",
    "    if l == 'o':\n",
    "        pass\n",
    "    print(l, end=\", \")"
   ]
  },
  {
   "cell_type": "code",
   "execution_count": 2,
   "id": "17505799",
   "metadata": {},
   "outputs": [
    {
     "ename": "SyntaxError",
     "evalue": "cannot assign to True (<ipython-input-2-884df10221f3>, line 1)",
     "output_type": "error",
     "traceback": [
      "\u001b[0;36m  File \u001b[0;32m\"<ipython-input-2-884df10221f3>\"\u001b[0;36m, line \u001b[0;32m1\u001b[0m\n\u001b[0;31m    True = False\u001b[0m\n\u001b[0m    ^\u001b[0m\n\u001b[0;31mSyntaxError\u001b[0m\u001b[0;31m:\u001b[0m cannot assign to True\n"
     ]
    }
   ],
   "source": [
    "True = False\n",
    "while True:\n",
    "    print(True)\n",
    "    break"
   ]
  },
  {
   "cell_type": "code",
   "execution_count": 5,
   "id": "263eb815",
   "metadata": {},
   "outputs": [
    {
     "name": "stdout",
     "output_type": "stream",
     "text": [
      "you are eligible to vote\n"
     ]
    }
   ],
   "source": [
    "# control flow\n",
    "age  = 24\n",
    "if (age >= 18):\n",
    "    print(\"you are eligible to vote\")\n",
    "else:\n",
    "    print(\"you are not eligible to vote\")\n"
   ]
  },
  {
   "cell_type": "code",
   "execution_count": null,
   "id": "774debc6",
   "metadata": {},
   "outputs": [],
   "source": [
    "# arre indentation hai yar, brackets ki jagah bas indent karna hoga\n",
    "# bas python me level indentation mandataroy hai, bracket laga ke usi level me next line \\\n",
    "# me nhi likh sakte, properly indent karna hoga."
   ]
  },
  {
   "cell_type": "code",
   "execution_count": 6,
   "id": "47eb49f9",
   "metadata": {},
   "outputs": [
    {
     "name": "stdout",
     "output_type": "stream",
     "text": [
      "hello world\n"
     ]
    }
   ],
   "source": [
    "print(\"hello world\")"
   ]
  },
  {
   "cell_type": "code",
   "execution_count": 9,
   "id": "4214bbdd",
   "metadata": {},
   "outputs": [
    {
     "name": "stdout",
     "output_type": "stream",
     "text": [
      "400 is the largest among three\n"
     ]
    }
   ],
   "source": [
    "#largest element among 3 numbers\n",
    "\n",
    "a,b,c = 50, 30, 400\n",
    "if(a >= b and a>=c):\n",
    "    print(\"{} is the largest among three\".format(a))\n",
    "elif (b>=a and b>=c):\n",
    "    print(\"{} is the largest among three\".format(b))\n",
    "else:\n",
    "    print(\"{} is the largest among three\".format(c))"
   ]
  },
  {
   "cell_type": "markdown",
   "id": "c6c9c2c1",
   "metadata": {},
   "source": [
    "## Syntax of while loop looks like follows\n",
    "\n",
    "### while(test-expression):\n",
    "        body of while loop"
   ]
  },
  {
   "cell_type": "code",
   "execution_count": 16,
   "id": "947b784a",
   "metadata": {},
   "outputs": [
    {
     "name": "stdout",
     "output_type": "stream",
     "text": [
      "2, 4, 6, 8, 10, 12, 14, 16, 18, 20, "
     ]
    }
   ],
   "source": [
    "# print 2's table in for loop\n",
    "for i in range(2,21,2):\n",
    "    print(i, end = \", \")\n",
    "    \n",
    "# the default value of end is \"\\n\""
   ]
  },
  {
   "cell_type": "code",
   "execution_count": 19,
   "id": "bc7ca167",
   "metadata": {},
   "outputs": [
    {
     "name": "stdout",
     "output_type": "stream",
     "text": [
      "10 9 8 7 6 5 4 3 2 1 2 4 6 8 10 12 14 16 18 20 "
     ]
    }
   ],
   "source": [
    "# for in loop, this is majorly used in python\n",
    "# range( start, stop, [step]) step is not a necessary step, default value if 1. also the stop parameter is not inclusive. it will be excluded.\n",
    "for i in range(10, 0, -1):\n",
    "    print(i, end = \" \")\n",
    "for i in range(2, 21, 2):\n",
    "    print(i, end = \" \")"
   ]
  },
  {
   "cell_type": "code",
   "execution_count": 25,
   "id": "2608bdc4",
   "metadata": {},
   "outputs": [
    {
     "name": "stdout",
     "output_type": "stream",
     "text": [
      "enter a number : 5\n",
      "* * * * * \n",
      "* * * * \n",
      "* * * \n",
      "* * \n",
      "* \n"
     ]
    }
   ],
   "source": [
    "n = int(input(\"enter a number : \"))\n",
    "for i in range(n, 0, -1):\n",
    "    for j in range(1, i+1):\n",
    "        print(\"* \", end = \"\")\n",
    "    print()"
   ]
  },
  {
   "cell_type": "code",
   "execution_count": 23,
   "id": "7de8a905",
   "metadata": {},
   "outputs": [
    {
     "name": "stdout",
     "output_type": "stream",
     "text": [
      "ppp\n"
     ]
    }
   ],
   "source": [
    "print(\"p\"*3)"
   ]
  },
  {
   "cell_type": "code",
   "execution_count": 24,
   "id": "db079180",
   "metadata": {},
   "outputs": [
    {
     "data": {
      "text/plain": [
       "True"
      ]
     },
     "execution_count": 24,
     "metadata": {},
     "output_type": "execute_result"
    }
   ],
   "source": [
    "(\"p\"*3)*2 == (\"p\"*2)*3"
   ]
  },
  {
   "cell_type": "code",
   "execution_count": 28,
   "id": "b64c7b2a",
   "metadata": {},
   "outputs": [
    {
     "name": "stdout",
     "output_type": "stream",
     "text": [
      "input an integer 5\n",
      "15\n",
      "15\n"
     ]
    }
   ],
   "source": [
    "# given an integer n, print the sum of the first n numbers\n",
    "n  = int(input(\"input an integer \"))\n",
    "print(n*(n+1)//2)\n",
    "sumN = 0\n",
    "for i in range(1,n+1):\n",
    "    sumN+=i\n",
    "print(sumN)"
   ]
  },
  {
   "cell_type": "code",
   "execution_count": 37,
   "id": "bcf653bd",
   "metadata": {},
   "outputs": [
    {
     "name": "stdout",
     "output_type": "stream",
     "text": [
      "enter an integer 97\n",
      "97 is a prime number\n"
     ]
    }
   ],
   "source": [
    "# find whether a given integer is a prime number or not\n",
    "\n",
    "n = int(input(\"enter an integer \"))\n",
    "flag = 1\n",
    "for i in range(2, n//2 + 1):\n",
    "    if(n%i == 0):\n",
    "        flag = 0\n",
    "        break\n",
    "if(flag):\n",
    "    print(\"{} is a prime number\".format(n))\n",
    "else:\n",
    "    print(\"{} is not a prime number\".format(n))"
   ]
  },
  {
   "cell_type": "code",
   "execution_count": null,
   "id": "0a735e49",
   "metadata": {},
   "outputs": [],
   "source": [
    "# break continue and pass\n",
    "# break and continue  are used as always just like c++"
   ]
  }
 ],
 "metadata": {
  "kernelspec": {
   "display_name": "Python 3",
   "language": "python",
   "name": "python3"
  },
  "language_info": {
   "codemirror_mode": {
    "name": "ipython",
    "version": 3
   },
   "file_extension": ".py",
   "mimetype": "text/x-python",
   "name": "python",
   "nbconvert_exporter": "python",
   "pygments_lexer": "ipython3",
   "version": "3.8.8"
  }
 },
 "nbformat": 4,
 "nbformat_minor": 5
}
