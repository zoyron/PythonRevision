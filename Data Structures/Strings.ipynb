{
 "cells": [
  {
   "cell_type": "code",
   "execution_count": 5,
   "id": "fa85460e",
   "metadata": {},
   "outputs": [
    {
     "name": "stdout",
     "output_type": "stream",
     "text": [
      "this is a string\n",
      "<class 'str'>\n",
      "t\n",
      "h\n",
      "16\n"
     ]
    }
   ],
   "source": [
    "# strings in python are the sequence of unicode characters\n",
    "# we can create strings using single as well as double quotes\n",
    "# data structures are used to efficiently stores the data that we encounter on day to day to basis\n",
    "# data structures are used to store data. The data structure we want to use to store data in depends on our own choice, how we choose to deal with the situation.\n",
    "# string is a 0 indexed data structured in python\n",
    "stre = \"this is a string\"\n",
    "print(stre)\n",
    "print(type(stre))\n",
    "print(stre[0])\n",
    "print(stre[1])\n",
    "#to find the total number of characters in python string use the function len\n",
    "print(len(str))\n"
   ]
  },
  {
   "cell_type": "code",
   "execution_count": 7,
   "id": "40fc13de",
   "metadata": {},
   "outputs": [],
   "source": [
    "# in python, last character of the string can be accessed with\n",
    "# the index -1, second last character can be accessed by the index -2, and so on."
   ]
  },
  {
   "cell_type": "code",
   "execution_count": 12,
   "id": "1539de59",
   "metadata": {},
   "outputs": [
    {
     "name": "stdout",
     "output_type": "stream",
     "text": [
      "welcome\n",
      "welcome to string slicing\n"
     ]
    }
   ],
   "source": [
    "# string slicing - to get multiple character or substrings from a string, then string slicing comes into play\n",
    "# to slice a string use - str_name[start_index : end_index+1]\n",
    "stre = \"welcome to string slicing\"\n",
    "print(stre[0:7])\n",
    "# we can also use the negative indexing for string slicing\n",
    "print(stre[:]) # another way of writing print(stre)\n"
   ]
  },
  {
   "cell_type": "code",
   "execution_count": 13,
   "id": "73c38ecc",
   "metadata": {},
   "outputs": [
    {
     "name": "stdout",
     "output_type": "stream",
     "text": [
      "wloet tigsiig\n"
     ]
    }
   ],
   "source": [
    "# we can also give step size just like range() for the string slicing as well, by default the step size is 1\n",
    "print(stre[::2])"
   ]
  },
  {
   "cell_type": "code",
   "execution_count": 3,
   "id": "c0b0d644",
   "metadata": {},
   "outputs": [
    {
     "name": "stdout",
     "output_type": "stream",
     "text": [
      "gnicils gnirts ot emocle\n"
     ]
    }
   ],
   "source": [
    "# to do this in backward direction is also possible\n",
    "stre = \"welcome to string slicing\"\n",
    "print(stre[len(stre) - 1: 0:-1])"
   ]
  },
  {
   "cell_type": "code",
   "execution_count": 6,
   "id": "df221a27",
   "metadata": {},
   "outputs": [
    {
     "name": "stdout",
     "output_type": "stream",
     "text": [
      "welcome to string slicing\n",
      "WELCOME TO STRING SLICING\n",
      "Welcome To String Slicing\n"
     ]
    }
   ],
   "source": [
    "# string methods\n",
    "# convert everything to lowercase\n",
    "print(stre.lower())\n",
    "# converting everything to capital\n",
    "print(stre.upper())\n",
    "# to make first character of each word into caps\n",
    "print(stre.title())"
   ]
  },
  {
   "cell_type": "code",
   "execution_count": 11,
   "id": "d8ed44c2",
   "metadata": {},
   "outputs": [
    {
     "name": "stdout",
     "output_type": "stream",
     "text": [
      "-1\n",
      "['welcome', 'to', 'string', 'slicing']\n"
     ]
    }
   ],
   "source": [
    "# returns the index of the first occurance of a word\n",
    "print(stre.find(\"machine\"))\n",
    "# if the find() function returns -1, that means the search string does not exist in the given string\n",
    "# split() function will string from spaces and make a list of the words\n",
    "print(stre.split())\n",
    "# the default value of the string\n"
   ]
  },
  {
   "cell_type": "code",
   "execution_count": 12,
   "id": "b137c0fe",
   "metadata": {},
   "outputs": [
    {
     "name": "stdout",
     "output_type": "stream",
     "text": [
      "['welc', 'me t', ' string slicing']\n"
     ]
    }
   ],
   "source": [
    "# the default value of the split function if space, but we can pass a parameter to split the string from that character\n",
    "print(stre.split('o'))"
   ]
  },
  {
   "cell_type": "code",
   "execution_count": 15,
   "id": "9e556e1d",
   "metadata": {},
   "outputs": [
    {
     "name": "stdout",
     "output_type": "stream",
     "text": [
      "swagat to string slicing\n",
      "welcome to string kaatna\n"
     ]
    }
   ],
   "source": [
    "# count function counts the number  of time the parameter is appearing the given string\n",
    "# replace() returns a copy of the string with all occurrences of substring old replaced by new\n",
    "print(stre.replace(\"welcome\", \"swagat\"))\n",
    "print(stre.replace(\"slicing\", \"kaatna\"))\n"
   ]
  },
  {
   "cell_type": "code",
   "execution_count": 17,
   "id": "3722864e",
   "metadata": {},
   "outputs": [
    {
     "data": {
      "text/plain": [
       "'hellohellohello'"
      ]
     },
     "execution_count": 17,
     "metadata": {},
     "output_type": "execute_result"
    }
   ],
   "source": [
    "stre # by pressing tab after the dot will give a list of all the function that can be used on the data structure under conideration\n",
    "# to concatanite 2 strings just use the + symbol\n",
    "# only strings are concatanated, not other data types using the + symbol. for doing with others, we have to do the type conversion\n",
    "\"hello\"*3\n"
   ]
  },
  {
   "cell_type": "code",
   "execution_count": 25,
   "id": "9b0c0f63",
   "metadata": {},
   "outputs": [
    {
     "name": "stdout",
     "output_type": "stream",
     "text": [
      "11\n"
     ]
    }
   ],
   "source": [
    "# find the total number of vowels inside a string\n",
    "stre = \"I am a failure, but not for long\"\n",
    "num = 0\n",
    "for i in stre:\n",
    "    if i in \"aeiouAEIOU\":\n",
    "       num += 1\n",
    "print(num)"
   ]
  },
  {
   "cell_type": "code",
   "execution_count": 31,
   "id": "d1320a13",
   "metadata": {},
   "outputs": [
    {
     "name": "stdout",
     "output_type": "stream",
     "text": [
      "enter a string please : naman arora\n",
      "the given string is not a palindrome\n"
     ]
    }
   ],
   "source": [
    "# check whether a given string is a palindrome or not\n",
    "stre = input(\"enter a string please : \")\n",
    "streRev = stre[::-1] # this is a way to reverse the string using the basic function of a string\n",
    "if(stre == streRev):\n",
    "    print(\"the given string is a palindrome\")\n",
    "else:\n",
    "    print(\"the given string is not a palindrome\")\n",
    "\n"
   ]
  },
  {
   "cell_type": "code",
   "execution_count": 33,
   "id": "0bc6b9ba",
   "metadata": {},
   "outputs": [
    {
     "data": {
      "text/plain": [
       "9"
      ]
     },
     "execution_count": 33,
     "metadata": {},
     "output_type": "execute_result"
    }
   ],
   "source": [
    "i = 5\n",
    "j = 4\n",
    "i.__add__(j)"
   ]
  },
  {
   "cell_type": "code",
   "execution_count": 44,
   "id": "8ed5f64d",
   "metadata": {},
   "outputs": [
    {
     "name": "stdout",
     "output_type": "stream",
     "text": [
      "985.3556\n"
     ]
    }
   ],
   "source": [
    "x = 985.3556\n",
    "print(format(x))"
   ]
  },
  {
   "cell_type": "code",
   "execution_count": 45,
   "id": "623fa5c0",
   "metadata": {},
   "outputs": [
    {
     "name": "stdout",
     "output_type": "stream",
     "text": [
      "zxxyxyy\n"
     ]
    }
   ],
   "source": [
    "print('xyyzxxyxyy'.lstrip('xyy'))\n"
   ]
  },
  {
   "cell_type": "code",
   "execution_count": 46,
   "id": "67dedd20",
   "metadata": {},
   "outputs": [
    {
     "data": {
      "text/plain": [
       "'naman aror'"
      ]
     },
     "execution_count": 46,
     "metadata": {},
     "output_type": "execute_result"
    }
   ],
   "source": [
    "stre[:-1]"
   ]
  },
  {
   "cell_type": "code",
   "execution_count": 47,
   "id": "16ab76b4",
   "metadata": {},
   "outputs": [
    {
     "name": "stdout",
     "output_type": "stream",
     "text": [
      "a a a a a a "
     ]
    }
   ],
   "source": [
    "x = \"abcdef\"\n",
    "i = \"a\"\n",
    "while i in x:\n",
    "    x = x[:-1]\n",
    "    print(i, end = \" \")"
   ]
  },
  {
   "cell_type": "code",
   "execution_count": 48,
   "id": "2813e43c",
   "metadata": {},
   "outputs": [
    {
     "data": {
      "text/plain": [
       "3"
      ]
     },
     "execution_count": 48,
     "metadata": {},
     "output_type": "execute_result"
    }
   ],
   "source": [
    "7//2"
   ]
  },
  {
   "cell_type": "code",
   "execution_count": 49,
   "id": "4a59963d",
   "metadata": {},
   "outputs": [
    {
     "data": {
      "text/plain": [
       "4"
      ]
     },
     "execution_count": 49,
     "metadata": {},
     "output_type": "execute_result"
    }
   ],
   "source": [
    "7//2 + 1"
   ]
  },
  {
   "cell_type": "code",
   "execution_count": 50,
   "id": "fd77b0b2",
   "metadata": {},
   "outputs": [
    {
     "data": {
      "text/plain": [
       "5"
      ]
     },
     "execution_count": 50,
     "metadata": {},
     "output_type": "execute_result"
    }
   ],
   "source": [
    "9//2 +1"
   ]
  },
  {
   "cell_type": "code",
   "execution_count": 60,
   "id": "fbf12e80",
   "metadata": {},
   "outputs": [
    {
     "ename": "IndexError",
     "evalue": "string index out of range",
     "output_type": "error",
     "traceback": [
      "\u001b[0;31m---------------------------------------------------------------------------\u001b[0m",
      "\u001b[0;31mIndexError\u001b[0m                                Traceback (most recent call last)",
      "\u001b[0;32m<ipython-input-60-7c3b31e31e71>\u001b[0m in \u001b[0;36m<module>\u001b[0;34m\u001b[0m\n\u001b[1;32m      1\u001b[0m \u001b[0mst\u001b[0m \u001b[0;34m=\u001b[0m \u001b[0;34m\"\"\u001b[0m\u001b[0;34m\u001b[0m\u001b[0;34m\u001b[0m\u001b[0m\n\u001b[1;32m      2\u001b[0m \u001b[0mn\u001b[0m \u001b[0;34m=\u001b[0m \u001b[0mlen\u001b[0m\u001b[0;34m(\u001b[0m\u001b[0mst\u001b[0m\u001b[0;34m)\u001b[0m\u001b[0;34m\u001b[0m\u001b[0;34m\u001b[0m\u001b[0m\n\u001b[0;32m----> 3\u001b[0;31m \u001b[0mprint\u001b[0m\u001b[0;34m(\u001b[0m\u001b[0mst\u001b[0m\u001b[0;34m[\u001b[0m\u001b[0mn\u001b[0m\u001b[0;34m//\u001b[0m\u001b[0;36m2\u001b[0m \u001b[0;34m-\u001b[0m \u001b[0;36m1\u001b[0m\u001b[0;34m]\u001b[0m \u001b[0;34m+\u001b[0m \u001b[0mst\u001b[0m\u001b[0;34m[\u001b[0m\u001b[0mn\u001b[0m\u001b[0;34m//\u001b[0m\u001b[0;36m2\u001b[0m\u001b[0;34m]\u001b[0m \u001b[0;34m+\u001b[0m \u001b[0mst\u001b[0m\u001b[0;34m[\u001b[0m\u001b[0mn\u001b[0m\u001b[0;34m//\u001b[0m\u001b[0;36m2\u001b[0m \u001b[0;34m+\u001b[0m \u001b[0;36m1\u001b[0m\u001b[0;34m]\u001b[0m\u001b[0;34m)\u001b[0m\u001b[0;34m\u001b[0m\u001b[0;34m\u001b[0m\u001b[0m\n\u001b[0m",
      "\u001b[0;31mIndexError\u001b[0m: string index out of range"
     ]
    }
   ],
   "source": [
    "st = \"\"\n",
    "n = len(st)\n",
    "print(st[n//2 - 1] + st[n//2] + st[n//2 + 1])"
   ]
  },
  {
   "cell_type": "code",
   "execution_count": 62,
   "id": "c5e52ae0",
   "metadata": {},
   "outputs": [
    {
     "name": "stdout",
     "output_type": "stream",
     "text": [
      "False\n"
     ]
    }
   ],
   "source": [
    "print(\"sgr\" in \"sagar\")"
   ]
  },
  {
   "cell_type": "code",
   "execution_count": null,
   "id": "5c8d4868",
   "metadata": {},
   "outputs": [],
   "source": []
  }
 ],
 "metadata": {
  "kernelspec": {
   "display_name": "Python 3",
   "language": "python",
   "name": "python3"
  },
  "language_info": {
   "codemirror_mode": {
    "name": "ipython",
    "version": 3
   },
   "file_extension": ".py",
   "mimetype": "text/x-python",
   "name": "python",
   "nbconvert_exporter": "python",
   "pygments_lexer": "ipython3",
   "version": "3.8.8"
  }
 },
 "nbformat": 4,
 "nbformat_minor": 5
}
