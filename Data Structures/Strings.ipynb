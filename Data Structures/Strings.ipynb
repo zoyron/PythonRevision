{
 "cells": [
  {
   "cell_type": "code",
   "execution_count": 5,
   "id": "fa85460e",
   "metadata": {},
   "outputs": [
    {
     "name": "stdout",
     "output_type": "stream",
     "text": [
      "this is a string\n",
      "<class 'str'>\n",
      "t\n",
      "h\n",
      "16\n"
     ]
    }
   ],
   "source": [
    "# strings in python are the sequence of unicode characters\n",
    "# we can create strings using single as well as double quotes\n",
    "# data structures are used to efficiently stores the data that we encounter on day to day to basis\n",
    "# data structures are used to store data. The data structure we want to use to store data in depends on our own choice, how we choose to deal with the situation.\n",
    "# string is a 0 indexed data structured in python\n",
    "stre = \"this is a string\"\n",
    "print(stre)\n",
    "print(type(stre))\n",
    "print(stre[0])\n",
    "print(stre[1])\n",
    "#to find the total number of characters in python string use the function len\n",
    "print(len(str))\n"
   ]
  },
  {
   "cell_type": "code",
   "execution_count": 7,
   "id": "e6fbe2c7",
   "metadata": {},
   "outputs": [],
   "source": [
    "# in python, last character of the string can be accessed with\n",
    "# the index -1, second last character can be accessed by the index -2, and so on."
   ]
  },
  {
   "cell_type": "code",
   "execution_count": 12,
   "id": "8ca95da8",
   "metadata": {},
   "outputs": [
    {
     "name": "stdout",
     "output_type": "stream",
     "text": [
      "welcome\n",
      "welcome to string slicing\n"
     ]
    }
   ],
   "source": [
    "# string slicing - to get multiple character or substrings from a string, then string slicing comes into play\n",
    "# to slice a string use - str_name[start_index : end_index+1]\n",
    "stre = \"welcome to string slicing\"\n",
    "print(stre[0:7])\n",
    "# we can also use the negative indexing for string slicing\n",
    "print(stre[:]) # another way of writing print(stre)\n"
   ]
  },
  {
   "cell_type": "code",
   "execution_count": 13,
   "id": "7c2f863b",
   "metadata": {},
   "outputs": [
    {
     "name": "stdout",
     "output_type": "stream",
     "text": [
      "wloet tigsiig\n"
     ]
    }
   ],
   "source": [
    "# we can also give step size just like range() for the string slicing as well, by default the step size is 1\n",
    "print(stre[::2])"
   ]
  },
  {
   "cell_type": "code",
   "execution_count": 16,
   "id": "91b9ac56",
   "metadata": {},
   "outputs": [
    {
     "name": "stdout",
     "output_type": "stream",
     "text": [
      "\n"
     ]
    }
   ],
   "source": [
    "# to do this in backward direction is also possible\n",
    "print(stre[len(stre) - 1: -1:-1])"
   ]
  }
 ],
 "metadata": {
  "kernelspec": {
   "display_name": "Python 3",
   "language": "python",
   "name": "python3"
  },
  "language_info": {
   "codemirror_mode": {
    "name": "ipython",
    "version": 3
   },
   "file_extension": ".py",
   "mimetype": "text/x-python",
   "name": "python",
   "nbconvert_exporter": "python",
   "pygments_lexer": "ipython3",
   "version": "3.8.8"
  }
 },
 "nbformat": 4,
 "nbformat_minor": 5
}
