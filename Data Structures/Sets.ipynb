{
 "cells": [
  {
   "cell_type": "code",
   "execution_count": 3,
   "id": "5e3134ba",
   "metadata": {},
   "outputs": [
    {
     "name": "stdout",
     "output_type": "stream",
     "text": [
      "{1, 34, 3, 4, 5, 6}\n",
      "{0, 1, 34, 3, 4, 5, 6, 7, 889}\n"
     ]
    }
   ],
   "source": [
    "# starting with sets\n",
    "# sets can onlly contain unique elements\n",
    "# sets are mutable and are non-indexable\n",
    "s = set() # this creates an empty set. unlike tuple, creating an empty or a singleton set is very easy\n",
    "s = {3,1,4,5,6,1,1,1,5,6,3,1,34,5}\n",
    "print(s)\n",
    "# the add() function will add an element to the set, but if the element is already present, then this will not have any effect on the element\n",
    "# remove() function removes an existing element from the set. the element to removed shoudl exist in the set, else it will throw an error\n",
    "# how to access elements when it is not indexable?\n",
    "# to add multiple elemts to gether, we can use the function called update, but we have to pass multiple elements inside a list\n",
    "s.update([7,3,0,889])\n",
    "print(s)\n",
    "\n"
   ]
  },
  {
   "cell_type": "code",
   "execution_count": 4,
   "id": "07c24448",
   "metadata": {},
   "outputs": [
    {
     "name": "stdout",
     "output_type": "stream",
     "text": [
      "4\n"
     ]
    }
   ],
   "source": [
    "# set operations\n",
    "# to remove duplicate elements from the list of to convert the list into set. and then change back the set into the list\n",
    "\n",
    "\n",
    "nums = set([1,2,4,1,2,3,3,4])\n",
    "print(len(nums))\n"
   ]
  },
  {
   "cell_type": "code",
   "execution_count": 5,
   "id": "bc4713b0",
   "metadata": {},
   "outputs": [
    {
     "data": {
      "text/plain": [
       "True"
      ]
     },
     "execution_count": 5,
     "metadata": {},
     "output_type": "execute_result"
    }
   ],
   "source": [
    "a={5,6,7,8}\n",
    "b={7,5,6,8}\n",
    "a==b\n"
   ]
  },
  {
   "cell_type": "code",
   "execution_count": null,
   "id": "b5124a45",
   "metadata": {},
   "outputs": [],
   "source": []
  }
 ],
 "metadata": {
  "kernelspec": {
   "display_name": "Python 3",
   "language": "python",
   "name": "python3"
  },
  "language_info": {
   "codemirror_mode": {
    "name": "ipython",
    "version": 3
   },
   "file_extension": ".py",
   "mimetype": "text/x-python",
   "name": "python",
   "nbconvert_exporter": "python",
   "pygments_lexer": "ipython3",
   "version": "3.8.8"
  }
 },
 "nbformat": 4,
 "nbformat_minor": 5
}
