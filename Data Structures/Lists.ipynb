{
 "cells": [
  {
   "cell_type": "code",
   "execution_count": 2,
   "id": "8853babf",
   "metadata": {},
   "outputs": [
    {
     "name": "stdout",
     "output_type": "stream",
     "text": [
      "[1, 3, 4, 5, 'sagar']\n"
     ]
    }
   ],
   "source": [
    "# is ordered sequence and indexable, much like arrays in C++\n",
    "# list is mutable, i.e. we can change the element once it has been stored in the list\n",
    "# a list can be created either by using two square brackets or using the list() constructor\n",
    "# but unlike C++ arrays, lists in python dont have to store just one type of list. they can store multiple type of data like int as well string there is not int or string list in python, there is just list which can store any type of data\n",
    "# for eg [1,3,4,5, \"sagar\"] is a perfectly valid list\n",
    "print([1,3,4,5, \"sagar\"])\n",
    "\n",
    "\n"
   ]
  },
  {
   "cell_type": "code",
   "execution_count": 8,
   "id": "56a5e7e7",
   "metadata": {},
   "outputs": [
    {
     "name": "stdout",
     "output_type": "stream",
     "text": [
      "sagar\n",
      "arora\n"
     ]
    }
   ],
   "source": [
    "# slicing on lists work just like slicing works on strings\n",
    "lst = [1,3,4,5, \"sagar\"]\n",
    "print(lst[-1])\n",
    "lst[-1] = \"arora\"\n",
    "print(lst[-1])"
   ]
  },
  {
   "cell_type": "code",
   "execution_count": 18,
   "id": "4cd8376c",
   "metadata": {},
   "outputs": [
    {
     "name": "stdout",
     "output_type": "stream",
     "text": [
      "[1, 22, 534, 123, 324, 11224, 2, 122, 4, 2, 5, 6, 7, 2, 8, 90]\n",
      "[1, 22, 534, 123, 324, 11224, 2, 122, 4, 2, 5, 6, 7, 2, 8, 90, 100]\n",
      "[1, 22, 88, 534, 123, 324, 11224, 2, 122, 4, 2, 5, 6, 7, 2, 8, 90, 100]\n",
      "the element popped is 100\n",
      "[11224, 534, 324, 123, 122, 90, 88, 22, 8, 7, 6, 5, 4, 2, 2, 2, 1]\n"
     ]
    }
   ],
   "source": [
    "# list methods -  append, insert, pop, remove, reverse, sort, extent\n",
    "arr = [1,22,534,123,324,11224,2,122,4,2,5,6,7,2,8,90]\n",
    "print(arr)\n",
    "arr.append(100)\n",
    "print(arr)\n",
    "# for insert function insert(index, object)\n",
    "arr.insert(2, 88)\n",
    "print(arr)\n",
    "# pop function deletes the last element then returns it\n",
    "ele = arr.pop()\n",
    "print(\"the element popped is {}\".format(ele))\n",
    "# the remove function removes the first occurance of the passed argument\n",
    "arr.sort(reverse = True)\n",
    "print(arr)\n",
    "# to sort in descending order use sort function like(sort(reverse = True))\n",
    "\n",
    "\n",
    "\n"
   ]
  },
  {
   "cell_type": "code",
   "execution_count": 22,
   "id": "06b39377",
   "metadata": {},
   "outputs": [],
   "source": [
    "# difference between append and extend\n",
    "arr.append([1,2,3,4])\n",
    "arr.extend([4,5,6,7,8])"
   ]
  },
  {
   "cell_type": "code",
   "execution_count": 23,
   "id": "ade82722",
   "metadata": {},
   "outputs": [
    {
     "name": "stdout",
     "output_type": "stream",
     "text": [
      "[11224, 534, 324, 123, 122, 90, 88, 22, 8, 7, 6, 5, 4, 2, 2, 2, 1, [1, 2, 3, 4], [1, 2, 3, 4], 4, 5, 6, 7, 8]\n"
     ]
    }
   ],
   "source": [
    "print(arr)"
   ]
  },
  {
   "cell_type": "code",
   "execution_count": 25,
   "id": "1817da98",
   "metadata": {},
   "outputs": [],
   "source": [
    "# append will the take the whole list [1,2,3,4] and add it to the one index of the existing list arr\n",
    "# but extend will take elements one by one and will place them in separate indices one by one rather adding the whole list to one index like the append function"
   ]
  },
  {
   "cell_type": "code",
   "execution_count": 30,
   "id": "8a52ecdc",
   "metadata": {},
   "outputs": [
    {
     "name": "stdout",
     "output_type": "stream",
     "text": [
      "[1, 2, 3, True, 'sagar', 1.23, 100]\n",
      "7\n",
      "[100, 1.23, 'sagar', True, 3, 2, 1]\n"
     ]
    }
   ],
   "source": [
    "# hererogeneous lists\n",
    "arr1 = [1,2,3,True,\"sagar\", 1.23, 100]\n",
    "print(arr1)\n",
    "print(len(arr1))\n",
    "# we cannot support the heterogeneous lists, we can reverse the list though\n",
    "arr1.reverse()\n",
    "print(arr1)\n",
    "\n"
   ]
  },
  {
   "cell_type": "code",
   "execution_count": 37,
   "id": "9db36a1b",
   "metadata": {},
   "outputs": [
    {
     "name": "stdout",
     "output_type": "stream",
     "text": [
      "pixel 4 belongs to papa\n"
     ]
    }
   ],
   "source": [
    "# like we have split the string by the space or any other character\n",
    "# we can join the elements of a list by using space or any other character as well.\n",
    "arr = [\"pixel\", \"4\", \"belongs\", \"to\", \"papa\"]\n",
    "arr = \" \".join(arr) # this functions returns a new string, so we better be assigning it to something while using it\n",
    "print(arr)"
   ]
  },
  {
   "cell_type": "code",
   "execution_count": 42,
   "id": "eeb5bd3d",
   "metadata": {},
   "outputs": [
    {
     "name": "stdout",
     "output_type": "stream",
     "text": [
      "[1, 2, 3, 4, 5, 6, 7, 8, 9, 10]\n",
      "[1, 4, 9, 16, 25, 36, 49, 64, 81, 100]\n",
      "[2, 4, 6, 8, 10, 12, 14, 16, 18, 20]\n"
     ]
    }
   ],
   "source": [
    "# list comperhensions provides a consice way of creating lists\n",
    "lst = list(range(1,11)) # this will make a list of numbers from 1 to 10\n",
    "print(lst)\n",
    "newList = []\n",
    "for i in lst:\n",
    "    newList.append(i**2)\n",
    "print(newList)\n",
    "# make a list of only even numbers from 2 to 20\n",
    "List = []\n",
    "for i in range(1,11):\n",
    "    List.append(i*2)\n",
    "print(List)\n",
    "\n",
    "\n",
    "\n"
   ]
  },
  {
   "cell_type": "code",
   "execution_count": 44,
   "id": "31127431",
   "metadata": {},
   "outputs": [
    {
     "data": {
      "text/plain": [
       "[[None, None, None, None, None, None, None, None, None, None],\n",
       " [None, None, None, None, None, None, None, None, None, None],\n",
       " [None, None, None, None, None, None, None, None, None, None],\n",
       " [None, None, None, None, None, None, None, None, None, None],\n",
       " [None, None, None, None, None, None, None, None, None, None],\n",
       " [None, None, None, None, None, None, None, None, None, None],\n",
       " [None, None, None, None, None, None, None, None, None, None],\n",
       " [None, None, None, None, None, None, None, None, None, None],\n",
       " [None, None, None, None, None, None, None, None, None, None],\n",
       " [None, None, None, None, None, None, None, None, None, None]]"
      ]
     },
     "execution_count": 44,
     "metadata": {},
     "output_type": "execute_result"
    }
   ],
   "source": [
    "# well this turned out to be great\n",
    "[[None]*10]*10"
   ]
  },
  {
   "cell_type": "code",
   "execution_count": 48,
   "id": "52e8d37f",
   "metadata": {},
   "outputs": [
    {
     "name": "stdout",
     "output_type": "stream",
     "text": [
      "[1, 2, 3, 4, 32]\n",
      "[1, 2, 3, 4, 32]\n",
      "[1, 2, 3, 4]\n",
      "[1, 2, 3, 4, 32]\n"
     ]
    }
   ],
   "source": [
    "# a list can have multiple references too\n",
    "lst = [1,2,3,4]\n",
    "abc = lst\n",
    "abc.append(32)\n",
    "print(lst)\n",
    "print(abc)\n",
    "# in this case both the variables - lst and abc are pointing towards the same list. No new list is created which doing abc = lst\n",
    "# to create a new copy or new list for abc while doing abc = lst, do the following\n",
    "abc = lst.copy()\n",
    "lst.pop()\n",
    "print(lst)\n",
    "print(abc)"
   ]
  },
  {
   "cell_type": "code",
   "execution_count": 49,
   "id": "3feadcc1",
   "metadata": {},
   "outputs": [
    {
     "data": {
      "text/plain": [
       "10"
      ]
     },
     "execution_count": 49,
     "metadata": {},
     "output_type": "execute_result"
    }
   ],
   "source": [
    "sum(lst)"
   ]
  },
  {
   "cell_type": "code",
   "execution_count": 50,
   "id": "c0ecd27f",
   "metadata": {},
   "outputs": [
    {
     "ename": "SyntaxError",
     "evalue": "invalid syntax (<ipython-input-50-5320afd97d10>, line 3)",
     "output_type": "error",
     "traceback": [
      "\u001b[0;36m  File \u001b[0;32m\"<ipython-input-50-5320afd97d10>\"\u001b[0;36m, line \u001b[0;32m3\u001b[0m\n\u001b[0;31m    for i not in a:\u001b[0m\n\u001b[0m          ^\u001b[0m\n\u001b[0;31mSyntaxError\u001b[0m\u001b[0;31m:\u001b[0m invalid syntax\n"
     ]
    }
   ],
   "source": [
    "a = [0, 1, 2, 3]\n",
    "i = -2\n",
    "for i not in a:\n",
    "    print(i)\n",
    "    i += 1\n"
   ]
  },
  {
   "cell_type": "code",
   "execution_count": 51,
   "id": "d1e83f5f",
   "metadata": {},
   "outputs": [
    {
     "name": "stdout",
     "output_type": "stream",
     "text": [
      "0\n",
      "1\n",
      "2\n",
      "2\n"
     ]
    }
   ],
   "source": [
    "a = [0, 1, 2, 3]\n",
    "for a[-1] in a:\n",
    "    print(a[-1])"
   ]
  },
  {
   "cell_type": "code",
   "execution_count": null,
   "id": "01c660f1",
   "metadata": {},
   "outputs": [],
   "source": [
    "   "
   ]
  }
 ],
 "metadata": {
  "kernelspec": {
   "display_name": "Python 3",
   "language": "python",
   "name": "python3"
  },
  "language_info": {
   "codemirror_mode": {
    "name": "ipython",
    "version": 3
   },
   "file_extension": ".py",
   "mimetype": "text/x-python",
   "name": "python",
   "nbconvert_exporter": "python",
   "pygments_lexer": "ipython3",
   "version": "3.8.8"
  }
 },
 "nbformat": 4,
 "nbformat_minor": 5
}
