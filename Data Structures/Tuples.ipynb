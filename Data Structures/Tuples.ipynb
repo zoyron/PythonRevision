{
 "cells": [
  {
   "cell_type": "code",
   "execution_count": 5,
   "id": "760f4bbc",
   "metadata": {},
   "outputs": [
    {
     "name": "stdout",
     "output_type": "stream",
     "text": [
      "1234\n",
      "54321\n"
     ]
    }
   ],
   "source": [
    "# we saw that lists and strings have many common properties, such as indexing and slicing operations. They are two examlpes of sequence data types. Since Python is evolving language, other sequence data types may be added. There is also another standard sequence data type: the tuple.\n",
    "# A tuple consists of a number of values separated by commans, for instace:\n",
    "t = 1234, 54321, \"hello!\"\n",
    "print(t[0])\n",
    "print(t[1])\n",
    "# tuples cannot be reassigned the values. yes, we can add new values in tupes, but doing t[1] = \"783838\" after already adding a value to t[1] is impossible in tuple is not possible.\n",
    "# but tuples can contain mutalbe objects. i.e. tuples themselves cannot be mutated, but the elements in them can be, i.e. if there is a list inside a tuple, we cannot remove that list and put something else in place of that list, but we can definitely change the values inside the list that is inside the tuple\n",
    "\n",
    "\n",
    "\n"
   ]
  },
  {
   "cell_type": "code",
   "execution_count": 6,
   "id": "e626d729",
   "metadata": {},
   "outputs": [
    {
     "name": "stdout",
     "output_type": "stream",
     "text": [
      "('hello',)\n"
     ]
    }
   ],
   "source": [
    "# As you see, on output tuples are always enclosed in parentheses, so that nested tuples are interpreted correcly; they may be input with or without surrounding parentheses, although often parentheses are necessary anyway\n",
    "# though tuples may seem similar to lists, they are often used in different situations and for different purposes. Tuples are immutable, and usually contain a heterogeneous sequence of elements that \n",
    "# tuples are immutable, and usually contain a heterogeneous sequence of elements that are accessed via unpacking or indexing.\n",
    "# Lists are mutable, and their elements are usually homogeneous and are accessed by itereating over the list.\n",
    "# empty tuples are constructed by an empty pair of parentheses; a tuple wiht one item is constructed by following a value with a comma. Ugly, but effective. For example:\n",
    "\n",
    "empty = ()\n",
    "singleton = 'hello',\n",
    "print(singleton)\n",
    "singleton1 = \"world\", # if I dont add a comma here, then it would be a string. Now that the comma is added here, it is a tuple\n",
    "\n",
    "\n",
    "\n",
    "\n",
    "\n"
   ]
  },
  {
   "cell_type": "code",
   "execution_count": null,
   "id": "cbcbdcd5",
   "metadata": {},
   "outputs": [],
   "source": []
  }
 ],
 "metadata": {
  "kernelspec": {
   "display_name": "Python 3",
   "language": "python",
   "name": "python3"
  },
  "language_info": {
   "codemirror_mode": {
    "name": "ipython",
    "version": 3
   },
   "file_extension": ".py",
   "mimetype": "text/x-python",
   "name": "python",
   "nbconvert_exporter": "python",
   "pygments_lexer": "ipython3",
   "version": "3.8.8"
  }
 },
 "nbformat": 4,
 "nbformat_minor": 5
}
