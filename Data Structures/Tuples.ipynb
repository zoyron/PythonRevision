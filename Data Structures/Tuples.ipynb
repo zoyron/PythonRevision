{
 "cells": [
  {
   "cell_type": "code",
   "execution_count": 5,
   "id": "760f4bbc",
   "metadata": {},
   "outputs": [
    {
     "name": "stdout",
     "output_type": "stream",
     "text": [
      "1234\n",
      "54321\n"
     ]
    }
   ],
   "source": [
    "# we saw that lists and strings have many common properties, such as indexing and slicing operations. They are two examlpes of sequence data types. Since Python is evolving language, other sequence data types may be added. There is also another standard sequence data type: the tuple.\n",
    "# A tuple consists of a number of values separated by commans, for instace:\n",
    "t = 1234, 54321, \"hello!\"\n",
    "print(t[0])\n",
    "print(t[1])\n",
    "# tuples cannot be reassigned the values. yes, we can add new values in tupes, but doing t[1] = \"783838\" after already adding a value to t[1] is impossible in tuple is not possible.\n",
    "# but tuples can contain mutalbe objects. i.e. tuples themselves cannot be mutated, but the elements in them can be, i.e. if there is a list inside a tuple, we cannot remove that list and put something else in place of that list, but we can definitely change the values inside the list that is inside the tuple\n",
    "\n",
    "\n",
    "\n"
   ]
  },
  {
   "cell_type": "code",
   "execution_count": 6,
   "id": "e626d729",
   "metadata": {},
   "outputs": [
    {
     "name": "stdout",
     "output_type": "stream",
     "text": [
      "('hello',)\n"
     ]
    }
   ],
   "source": [
    "# As you see, on output tuples are always enclosed in parentheses, so that nested tuples are interpreted correcly; they may be input with or without surrounding parentheses, although often parentheses are necessary anyway\n",
    "# though tuples may seem similar to lists, they are often used in different situations and for different purposes. Tuples are immutable, and usually contain a heterogeneous sequence of elements that \n",
    "# tuples are immutable, and usually contain a heterogeneous sequence of elements that are accessed via unpacking or indexing.\n",
    "# Lists are mutable, and their elements are usually homogeneous and are accessed by itereating over the list.\n",
    "# empty tuples are constructed by an empty pair of parentheses; a tuple wiht one item is constructed by following a value with a comma. Ugly, but effective. For example:\n",
    "\n",
    "empty = ()\n",
    "singleton = 'hello',\n",
    "print(singleton)\n",
    "singleton1 = \"world\", # if I dont add a comma here, then it would be a string. Now that the comma is added here, it is a tuple\n",
    "\n",
    "\n",
    "\n",
    "\n",
    "\n"
   ]
  },
  {
   "cell_type": "code",
   "execution_count": 4,
   "id": "cbcbdcd5",
   "metadata": {},
   "outputs": [
    {
     "name": "stdout",
     "output_type": "stream",
     "text": [
      "(8, 9, 'sagar', 889)\n",
      "8\n",
      "889\n",
      "(8, 9, 'sagar')\n"
     ]
    }
   ],
   "source": [
    "tup = (8,9,\"sagar\", 889)\n",
    "print(tup)\n",
    "\n",
    "# for one element\n",
    "# t = (\"sagar\") will create a string, but t = (\"sagar\"), will create a tuple. the comma is necessary after that\n",
    "# why tuples\n",
    "print(tup[0])\n",
    "print(tup[-1])\n",
    "print(tup[:-1])\n",
    "\n",
    "\n"
   ]
  },
  {
   "cell_type": "code",
   "execution_count": 5,
   "id": "a3f59b90",
   "metadata": {},
   "outputs": [
    {
     "name": "stdout",
     "output_type": "stream",
     "text": [
      "8 9 sagar 889 "
     ]
    }
   ],
   "source": [
    "# changing elements in tuples\n",
    "# since tup[0] is already 8, I cant change the value here.  we cant even append things to tuples\n",
    "# tuples are faster than list, around 10x for read only purposes\n",
    "for i in tup:\n",
    "    print(i, end = \" \")"
   ]
  },
  {
   "cell_type": "code",
   "execution_count": 7,
   "id": "d33b52c1",
   "metadata": {},
   "outputs": [
    {
     "name": "stdout",
     "output_type": "stream",
     "text": [
      "(1, 2, 3, 4, 5, 6)\n"
     ]
    }
   ],
   "source": [
    "# concatinating a tuple\n",
    "t1 = (1,2,3)\n",
    "t2 = (4,5,6)\n",
    "t = t1+t2 # this will create a new tuple, it wont update an old existingg tuple\n",
    "print(t)\n",
    "# we cannot delete the element inside a tuple, but we can delete the entire tuple\n",
    "del t # this deletes the tuple"
   ]
  },
  {
   "cell_type": "code",
   "execution_count": 17,
   "id": "de606864",
   "metadata": {},
   "outputs": [
    {
     "name": "stdout",
     "output_type": "stream",
     "text": [
      "1\n"
     ]
    }
   ],
   "source": [
    "# tuple unpacking\n",
    "#tup.index(8) # this will give you the first occurance of the variable element\n",
    "a, b, c = t1\n",
    "# for tuple unpacking you have to write a variable for each index of a tuple, else it will give an error\n",
    "print(a)\n"
   ]
  },
  {
   "cell_type": "code",
   "execution_count": 19,
   "id": "d9425fa8",
   "metadata": {},
   "outputs": [
    {
     "data": {
      "text/plain": [
       "False"
      ]
     },
     "execution_count": 19,
     "metadata": {},
     "output_type": "execute_result"
    }
   ],
   "source": [
    "a=(1,2,(4,5))\n",
    "b=(1,2,(3,4))\n",
    "a<b"
   ]
  },
  {
   "cell_type": "code",
   "execution_count": null,
   "id": "08c3158d",
   "metadata": {},
   "outputs": [],
   "source": []
  }
 ],
 "metadata": {
  "kernelspec": {
   "display_name": "Python 3",
   "language": "python",
   "name": "python3"
  },
  "language_info": {
   "codemirror_mode": {
    "name": "ipython",
    "version": 3
   },
   "file_extension": ".py",
   "mimetype": "text/x-python",
   "name": "python",
   "nbconvert_exporter": "python",
   "pygments_lexer": "ipython3",
   "version": "3.8.8"
  }
 },
 "nbformat": 4,
 "nbformat_minor": 5
}
