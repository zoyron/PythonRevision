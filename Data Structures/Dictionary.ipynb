{
 "cells": [
  {
   "cell_type": "code",
   "execution_count": 9,
   "id": "ca79ccc2",
   "metadata": {},
   "outputs": [
    {
     "name": "stdout",
     "output_type": "stream",
     "text": [
      "{'fack': 4098, 'sape': 4139, 'guido': 4127}\n",
      "['guido', 'irv', 'sape']\n",
      "False\n",
      "True\n",
      "{'sagar': 12345, 'shubham': 45678, 'srishti': '298374'}\n"
     ]
    }
   ],
   "source": [
    "# another useful data type in python is the dictionary\n",
    "# Dictionaies are sometimes found in other languages as\n",
    "# associative memories or associateive arrays. Unlike\n",
    "# sequences, which are indexed by a range of numebrs\n",
    "# dictionaries are indexes by keys. Tuples can be keys\n",
    "# as well. If a tuple contains any mutable objects\n",
    "# either directly or indirectly, they cannot be keys\n",
    "# they can only contain numbers, strings or tuples\n",
    "# it is the best to think of dictionaries as a set of\n",
    "# key value pairs with requirements that the keys are\n",
    "# unique. A pair of braces creates an empty dictionary\n",
    "# {} this creates an empyt dictionary. it is also \n",
    "# possible to delete a key:value pair with del\n",
    "# it is an error to extract a value using a non-\n",
    "# -existing key. perforing list(d) on a dictionary \n",
    "# returns a list of all teh keys used in dictionary.\n",
    "# to check whether a single key is in the dictionary,\n",
    "# use the in keyword\n",
    "tel  = {'fack': 4098, 'sape': 4139}\n",
    "tel['guido'] = 4127 # like c++ maps, if the guido key exists then it will update the value else it will create the guido 4127 key: value pair\n",
    "print(tel)\n",
    "del tel['fack']\n",
    "tel['irv'] = 2147\n",
    "print(sorted(tel))\n",
    "print('sagar' in tel)\n",
    "print('guido' in tel)\n",
    "# dict() constructor builds dictionaries directly from sequences of key-value pairs:\n",
    "d = dict([('sagar', 12345),('shubham', 45678),('srishti', '298374')])\n",
    "print(d)\n",
    "\n",
    "\n",
    "\n"
   ]
  },
  {
   "cell_type": "code",
   "execution_count": 10,
   "id": "657e2b97",
   "metadata": {},
   "outputs": [
    {
     "name": "stdout",
     "output_type": "stream",
     "text": [
      "{1: 1, 2: 8, 3: 27, 4: 64, 5: 125, 6: 216, 7: 343, 8: 512, 9: 729, 10: 1000}\n"
     ]
    }
   ],
   "source": [
    "# dictionay conprehensions\n",
    "# {key:value statement defining the keys} for eg\n",
    "dic = {x:x**3 for x in range(1,11)}\n",
    "print(dic)"
   ]
  },
  {
   "cell_type": "code",
   "execution_count": 11,
   "id": "6e451606",
   "metadata": {},
   "outputs": [
    {
     "name": "stdout",
     "output_type": "stream",
     "text": [
      "1 1\n",
      "2 8\n",
      "3 27\n",
      "4 64\n",
      "5 125\n",
      "6 216\n",
      "7 343\n",
      "8 512\n",
      "9 729\n",
      "10 1000\n"
     ]
    }
   ],
   "source": [
    "# looping techniques\n",
    "\n",
    "for i,j in dic.items():\n",
    "    print(i,j)"
   ]
  },
  {
   "cell_type": "code",
   "execution_count": 13,
   "id": "2f3116cb",
   "metadata": {},
   "outputs": [
    {
     "name": "stdout",
     "output_type": "stream",
     "text": [
      "4\n"
     ]
    }
   ],
   "source": [
    "a={1:\"A\",2:\"B\",3:\"C\"}\n",
    "print(a.get(4,4))\n",
    "\n",
    "# the get() method returns the value of the key of the key is present in the dictionary, else it will return the default value - the value passed as the second argument in the get function - if the key isn't present in the dictionary\n",
    "\n"
   ]
  },
  {
   "cell_type": "code",
   "execution_count": 14,
   "id": "9af1ce19",
   "metadata": {},
   "outputs": [
    {
     "name": "stdout",
     "output_type": "stream",
     "text": [
      "{'test': 7}\n"
     ]
    }
   ],
   "source": [
    "a = dict()\n",
    "a['test'] = 7\n",
    "print(a)"
   ]
  },
  {
   "cell_type": "code",
   "execution_count": 15,
   "id": "b0d1dc34",
   "metadata": {},
   "outputs": [
    {
     "name": "stdout",
     "output_type": "stream",
     "text": [
      "{1: 'a', 2: 'b', 3: 'c'}\n"
     ]
    }
   ],
   "source": [
    "a={\"a\":1,\"b\":2,\"c\":3}\n",
    "b=dict(zip(a.values(),a.keys()))\n",
    "print(b)"
   ]
  },
  {
   "cell_type": "code",
   "execution_count": null,
   "id": "a2be780f",
   "metadata": {},
   "outputs": [],
   "source": []
  }
 ],
 "metadata": {
  "kernelspec": {
   "display_name": "Python 3",
   "language": "python",
   "name": "python3"
  },
  "language_info": {
   "codemirror_mode": {
    "name": "ipython",
    "version": 3
   },
   "file_extension": ".py",
   "mimetype": "text/x-python",
   "name": "python",
   "nbconvert_exporter": "python",
   "pygments_lexer": "ipython3",
   "version": "3.8.8"
  }
 },
 "nbformat": 4,
 "nbformat_minor": 5
}
