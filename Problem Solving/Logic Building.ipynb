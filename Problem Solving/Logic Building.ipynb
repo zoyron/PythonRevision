{
 "cells": [
  {
   "cell_type": "code",
   "execution_count": 1,
   "id": "abce1911",
   "metadata": {},
   "outputs": [
    {
     "name": "stdout",
     "output_type": "stream",
     "text": [
      "4\n",
      "1 \n",
      "2 3 \n",
      "4 5 6 \n",
      "7 8 9 10 \n"
     ]
    }
   ],
   "source": [
    "pri = 1\n",
    "n = int(input())\n",
    "for i in range(1,n+1):\n",
    "    for j in range(1,i+1):\n",
    "        print(pri, end = \" \")\n",
    "        pri+=1\n",
    "    print()"
   ]
  },
  {
   "cell_type": "code",
   "execution_count": 3,
   "id": "477d9c0c",
   "metadata": {},
   "outputs": [
    {
     "name": "stdout",
     "output_type": "stream",
     "text": [
      "5\n",
      "1 \n",
      "2 3 \n",
      "4 5 6 \n",
      "7 8 9 10 \n",
      "11 12 13 14 15 \n"
     ]
    }
   ],
   "source": [
    "def patternNumber(n):\n",
    "    pri = 1\n",
    "    for i in range(1,n+1):\n",
    "        for j in range(1,i+1):\n",
    "            print(pri, end = \" \")\n",
    "            pri+=1\n",
    "        print()\n",
    "        \n",
    "n = int(input())\n",
    "patternNumber(n)"
   ]
  },
  {
   "cell_type": "code",
   "execution_count": 13,
   "id": "dde955f5",
   "metadata": {},
   "outputs": [
    {
     "name": "stdout",
     "output_type": "stream",
     "text": [
      "4\n"
     ]
    }
   ],
   "source": [
    "def printStars(n):\n",
    "    for i in range(1, n+1):\n",
    "        for j in range(1,n-i+1):\n",
    "            print( \" \", end = \"\")\n",
    "        for j in range(1,2*i):\n",
    "            print(\"*\", end = \"\")\n",
    "        print()\n",
    "\n",
    "\n",
    "n = int(input())\n"
   ]
  },
  {
   "cell_type": "code",
   "execution_count": 21,
   "id": "9692eb72",
   "metadata": {},
   "outputs": [
    {
     "name": "stdout",
     "output_type": "stream",
     "text": [
      "11\n",
      "11 is a prime number\n"
     ]
    }
   ],
   "source": [
    "# is prime function\n",
    "def isPrime(n):\n",
    "    for i in range(2, n//2):\n",
    "        if(n%i == 0):\n",
    "            return False\n",
    "    return True\n",
    "n = int(input())\n",
    "if isPrime(n):\n",
    "    print(\"{} is a prime number\".format(n))\n",
    "else:\n",
    "    print(\"{} is not a prime number\".format(n))"
   ]
  },
  {
   "cell_type": "code",
   "execution_count": 25,
   "id": "ead5280c",
   "metadata": {},
   "outputs": [
    {
     "name": "stdout",
     "output_type": "stream",
     "text": [
      "13\n",
      "1101\n"
     ]
    }
   ],
   "source": [
    "# decimal to binary in python\n",
    "def decToBin(n):\n",
    "    ans = 0\n",
    "    p = 1\n",
    "    while n > 0:\n",
    "        rem = n%2\n",
    "        ans = ans + rem * p\n",
    "        p =  p*10\n",
    "        n = n//2\n",
    "    return ans\n",
    "        \n",
    "n = int(input())\n",
    "print(decToBin(n))"
   ]
  },
  {
   "cell_type": "code",
   "execution_count": 27,
   "id": "1fe47cb4",
   "metadata": {},
   "outputs": [
    {
     "name": "stdout",
     "output_type": "stream",
     "text": [
      "10\n",
      "1010\n"
     ]
    }
   ],
   "source": [
    "# doing bitwise operator with & will give us the last bit of the number\n",
    "# is we right shift the entire input by a factor of 1, we will get the second last bit as well\n",
    "# we have to keep doing this till we reach the last part of the number in binary\n",
    "# how to right shift n : n = n >> a, this is right shifting n by a factor of 1. since we need to right shift by 1, we will do = n >> 1\n",
    "# for even numbers last bit is 0, and for odd numbers, the last bit is even\n",
    "def binUsingBit(n):\n",
    "    ans =0\n",
    "    p = 1\n",
    "    while n:\n",
    "        lastBit = n&1 # finding the last bit\n",
    "        ans = ans + lastBit*p\n",
    "        p*=10\n",
    "        n = n >>1 # doing the right shift\n",
    "    return ans\n",
    "        \n",
    "        \n",
    "n = int(input())\n",
    "print(binUsingBit(n))\n",
    "\n"
   ]
  },
  {
   "cell_type": "code",
   "execution_count": 31,
   "id": "1dcefa36",
   "metadata": {},
   "outputs": [
    {
     "name": "stdout",
     "output_type": "stream",
     "text": [
      "10\n",
      "2\n"
     ]
    }
   ],
   "source": [
    "# count set bits\n",
    "def setBits(n):\n",
    "    cnt = 0\n",
    "    while n:\n",
    "        cnt = cnt + (n&1)\n",
    "        n = n >> 1\n",
    "    return cnt\n",
    "n = int(input())\n",
    "print(setBits(n))\n",
    "# well this worked fine too"
   ]
  },
  {
   "cell_type": "code",
   "execution_count": 34,
   "id": "099b5b7b",
   "metadata": {},
   "outputs": [
    {
     "name": "stdout",
     "output_type": "stream",
     "text": [
      "sagar arora\n",
      "s_a_g_a_r_a_r_o_r_a\n"
     ]
    }
   ],
   "source": [
    "# string in python are immutable, the concatenation operation we see makes a new string everytime\n",
    "def removeSpaces(inp):\n",
    "    out = []\n",
    "    for i in inp:\n",
    "        if i!=\" \":\n",
    "            out.append(i) # this will complete the list out\n",
    "    ans = \"_\".join(out) # this is how you make a string out of a list\n",
    "    return ans\n",
    "\n",
    "inp = input()\n",
    "print(removeSpaces(inp))\n",
    "\n",
    "\n",
    "\n"
   ]
  },
  {
   "cell_type": "code",
   "execution_count": null,
   "id": "4775dcaa",
   "metadata": {},
   "outputs": [],
   "source": []
  }
 ],
 "metadata": {
  "kernelspec": {
   "display_name": "Python 3",
   "language": "python",
   "name": "python3"
  },
  "language_info": {
   "codemirror_mode": {
    "name": "ipython",
    "version": 3
   },
   "file_extension": ".py",
   "mimetype": "text/x-python",
   "name": "python",
   "nbconvert_exporter": "python",
   "pygments_lexer": "ipython3",
   "version": "3.8.8"
  }
 },
 "nbformat": 4,
 "nbformat_minor": 5
}
