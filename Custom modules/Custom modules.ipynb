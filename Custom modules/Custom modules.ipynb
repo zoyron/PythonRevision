{
 "cells": [
  {
   "cell_type": "code",
   "execution_count": 6,
   "id": "2614ddf4",
   "metadata": {},
   "outputs": [
    {
     "name": "stdout",
     "output_type": "stream",
     "text": [
      "['/opt/anaconda3/lib/python3.8/site-packages/ipykernel_launcher.py', '-f', '/Users/sagararora/Library/Jupyter/runtime/kernel-dee7a0fd-d9d1-4417-980b-1b6bf9ccf4ed.json']\n"
     ]
    }
   ],
   "source": [
    "import sys\n",
    "print(sys.argv)"
   ]
  },
  {
   "cell_type": "code",
   "execution_count": 7,
   "id": "0bebb550",
   "metadata": {},
   "outputs": [
    {
     "name": "stdout",
     "output_type": "stream",
     "text": [
      "['/opt/anaconda3/lib/python3.8/site-packages/ipykernel_launcher.py', '-f', '/Users/sagararora/Library/Jupyter/runtime/kernel-dee7a0fd-d9d1-4417-980b-1b6bf9ccf4ed.json']\n"
     ]
    }
   ],
   "source": [
    "import sys\n",
    "print(sys.argv)"
   ]
  },
  {
   "cell_type": "code",
   "execution_count": 9,
   "id": "7ed7e1bd",
   "metadata": {},
   "outputs": [
    {
     "name": "stdout",
     "output_type": "stream",
     "text": [
      "120\n"
     ]
    }
   ],
   "source": [
    "# custom module is a code that is not inbuilt, something builtby the developer\n",
    "from math import factorial\n",
    "print(math.factorial(5))\n",
    "\n",
    "\n",
    "\n",
    "\n"
   ]
  },
  {
   "cell_type": "code",
   "execution_count": null,
   "id": "90060f27",
   "metadata": {},
   "outputs": [],
   "source": []
  }
 ],
 "metadata": {
  "kernelspec": {
   "display_name": "Python 3",
   "language": "python",
   "name": "python3"
  },
  "language_info": {
   "codemirror_mode": {
    "name": "ipython",
    "version": 3
   },
   "file_extension": ".py",
   "mimetype": "text/x-python",
   "name": "python",
   "nbconvert_exporter": "python",
   "pygments_lexer": "ipython3",
   "version": "3.8.8"
  }
 },
 "nbformat": 4,
 "nbformat_minor": 5
}
